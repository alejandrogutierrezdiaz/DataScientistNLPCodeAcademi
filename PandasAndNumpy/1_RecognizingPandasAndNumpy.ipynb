{
 "cells": [
  {
   "cell_type": "markdown",
   "id": "ef0ef322-9fce-4fec-94c0-c977e29a46b1",
   "metadata": {},
   "source": [
    "**Note**: These notes are a summary of notes taken from www.codecademy.com, not my production\n",
    "\n",
    "1) Import Pandas and Numpy\n"
   ]
  },
  {
   "cell_type": "code",
   "execution_count": 1,
   "id": "72279211-1230-4580-bc32-66edf1302695",
   "metadata": {},
   "outputs": [],
   "source": [
    "import numpy as np\n",
    "import pandas as pd"
   ]
  },
  {
   "cell_type": "markdown",
   "id": "d2af9b2a-1855-4ea6-9ce8-7c87361a9f8b",
   "metadata": {},
   "source": [
    "2) NumPy Arrays: NumPy arrays are unique in that they are more flexible than normal Python lists. They are called ndarrays since they can have any number (n) of dimensions (d). They hold a collection of items of any one data type and can be either a vector (one-dimensional) or a matrix (multi-dimensional). NumPy arrays allow for fast element access and efficient data manipulation.\n",
    "\n",
    "The code below initializes a Python list named list1:\n"
   ]
  },
  {
   "cell_type": "code",
   "execution_count": 5,
   "id": "f3e93b0e-ffca-4ec6-8663-555a73bbf19a",
   "metadata": {},
   "outputs": [],
   "source": [
    "list1 = [1,2,3,4]\n"
   ]
  },
  {
   "cell_type": "markdown",
   "id": "259f6b7c-3eb0-46c6-9370-83f9c5d4267c",
   "metadata": {},
   "source": [
    "To convert this to a one-dimensional ndarray with one row and four columns, we can use the np.array() function:"
   ]
  },
  {
   "cell_type": "code",
   "execution_count": 8,
   "id": "fc34b461-2d5b-4677-b322-8147030abc21",
   "metadata": {},
   "outputs": [
    {
     "name": "stdout",
     "output_type": "stream",
     "text": [
      "[1 2 3 4]\n"
     ]
    }
   ],
   "source": [
    "array1 = np.array(list1)\n",
    "print(array1)\n"
   ]
  },
  {
   "cell_type": "markdown",
   "id": "bbc2c506-2b1c-4048-9700-b6f72e0e2222",
   "metadata": {},
   "source": [
    "To get a two-dimensional ndarray from a list, we must start with a Python list of lists:"
   ]
  },
  {
   "cell_type": "code",
   "execution_count": 10,
   "id": "26353f31-4697-469d-bb1b-cefda38ed4a0",
   "metadata": {},
   "outputs": [
    {
     "name": "stdout",
     "output_type": "stream",
     "text": [
      "[[1 2 3]\n",
      " [4 5 6]]\n"
     ]
    }
   ],
   "source": [
    "list2 = [[1,2,3],[4,5,6]]\n",
    "array2 = np.array(list2)\n",
    "print(array2)"
   ]
  },
  {
   "cell_type": "markdown",
   "id": "349962d8-ba19-473e-b0c6-4d6dda039eca",
   "metadata": {},
   "source": [
    "Pandas Series and Dataframes:\n",
    "\n",
    "Just as the ndarray is the foundation of the NumPy library, the Series is the core object of the pandas library. A pandas Series is very similar to a one-dimensional NumPy array, but it has additional functionality that allows values in the Series to be indexed using labels. A NumPy array does not have the flexibility to do this. This labeling is useful when you are storing pieces of data that have other data associated with them. \n",
    "A Series holds items of any one data type and can be created by sending in a scalar value, Python list, dictionary, or ndarray as a parameter to the pandas Series constructor. If a dictionary is sent in, the keys may be used as the indices.\n"
   ]
  },
  {
   "cell_type": "code",
   "execution_count": 59,
   "id": "ac17aee3-6102-4e8e-94b3-14c173e26282",
   "metadata": {},
   "outputs": [
    {
     "name": "stdout",
     "output_type": "stream",
     "text": [
      "0    13\n",
      "1    25\n",
      "2    19\n",
      "dtype: int32\n"
     ]
    }
   ],
   "source": [
    "# Create a Series using a NumPy array of ages with the default numerical indices\n",
    "ages = np.array([13,25,19])\n",
    "series1 = pd.Series(ages)\n",
    "print(series1)\n"
   ]
  },
  {
   "cell_type": "markdown",
   "id": "37f08fc5-e37b-4e27-b183-fb862876d454",
   "metadata": {},
   "source": [
    "When printing a Series, the data type of its elements is also printed. To customize the indices of a Series object, use the index argument of the Series constructor."
   ]
  },
  {
   "cell_type": "code",
   "execution_count": 61,
   "id": "c4c99369-e217-4126-bbb5-f7c246f92ff0",
   "metadata": {},
   "outputs": [
    {
     "name": "stdout",
     "output_type": "stream",
     "text": [
      "Emma      13\n",
      "Swetha    25\n",
      "Serajh    19\n",
      "dtype: int32\n"
     ]
    }
   ],
   "source": [
    "# Create a Series using a NumPy array of ages but customize the indices to be the names that correspond to each age\n",
    "ages = np.array([13,25,19])\n",
    "series1 = pd.Series(ages,index=['Emma', 'Swetha', 'Serajh'])\n",
    "print(series1)\n"
   ]
  },
  {
   "cell_type": "markdown",
   "id": "c04706d2-629b-455e-bd9a-7786616006f5",
   "metadata": {},
   "source": [
    "Another important type of object in the pandas library is the DataFrame. This object is similar in form to a matrix as it consists of rows and columns. Both rows and columns can be indexed with integers or String names. One DataFrame can contain many different types of data types, but within a column, everything has to be the same data type. A column of a DataFrame is essentially a Series. All columns must have the same number of elements (rows).\n",
    "\n",
    "There are different ways to fill a DataFrame such as with a CSV file, a SQL query, a Python list, or a dictionary. Here we have created a DataFrame using a Python list of lists. Each nested list represents the data in one row of the DataFrame. We use the keyword columns to pass in the list of our custom column names."
   ]
  },
  {
   "cell_type": "code",
   "execution_count": 63,
   "id": "264271c8-72d1-40a8-978a-8726f9cab122",
   "metadata": {},
   "outputs": [
    {
     "name": "stdout",
     "output_type": "stream",
     "text": [
      "         name        address  age\n",
      "0  John Smith    123 Main St   34\n",
      "1    Jane Doe  456 Maple Ave   28\n",
      "2   Joe Schmo   789 Broadway   51\n"
     ]
    }
   ],
   "source": [
    "dataf = pd.DataFrame([\n",
    "    ['John Smith','123 Main St',34],\n",
    "    ['Jane Doe', '456 Maple Ave',28],\n",
    "    ['Joe Schmo', '789 Broadway',51]\n",
    "    ],\n",
    "    columns=['name','address','age'])\n",
    "\n",
    "print(dataf)"
   ]
  },
  {
   "cell_type": "markdown",
   "id": "a21fe041-2312-450f-b001-d0190dff6c81",
   "metadata": {},
   "source": [
    "The default row indices are 0,1,2..., but these can be changed. For example, they can be set to be the elements in one of the columns of the DataFrame. To use the names column as indices instead of the default numerical values, we can run the following command on our DataFrame:"
   ]
  },
  {
   "cell_type": "code",
   "execution_count": 31,
   "id": "8713ab07-4ec9-4c4b-9daa-fc35ca1e9576",
   "metadata": {},
   "outputs": [
    {
     "data": {
      "text/html": [
       "<div>\n",
       "<style scoped>\n",
       "    .dataframe tbody tr th:only-of-type {\n",
       "        vertical-align: middle;\n",
       "    }\n",
       "\n",
       "    .dataframe tbody tr th {\n",
       "        vertical-align: top;\n",
       "    }\n",
       "\n",
       "    .dataframe thead th {\n",
       "        text-align: right;\n",
       "    }\n",
       "</style>\n",
       "<table border=\"1\" class=\"dataframe\">\n",
       "  <thead>\n",
       "    <tr style=\"text-align: right;\">\n",
       "      <th></th>\n",
       "      <th>address</th>\n",
       "      <th>age</th>\n",
       "    </tr>\n",
       "    <tr>\n",
       "      <th>name</th>\n",
       "      <th></th>\n",
       "      <th></th>\n",
       "    </tr>\n",
       "  </thead>\n",
       "  <tbody>\n",
       "    <tr>\n",
       "      <th>John Smith</th>\n",
       "      <td>123 Main St</td>\n",
       "      <td>34</td>\n",
       "    </tr>\n",
       "    <tr>\n",
       "      <th>Jane Doe</th>\n",
       "      <td>456 Maple Ave</td>\n",
       "      <td>28</td>\n",
       "    </tr>\n",
       "    <tr>\n",
       "      <th>Joe Schmo</th>\n",
       "      <td>789 Broadway</td>\n",
       "      <td>51</td>\n",
       "    </tr>\n",
       "  </tbody>\n",
       "</table>\n",
       "</div>"
      ],
      "text/plain": [
       "                  address  age\n",
       "name                          \n",
       "John Smith    123 Main St   34\n",
       "Jane Doe    456 Maple Ave   28\n",
       "Joe Schmo    789 Broadway   51"
      ]
     },
     "execution_count": 31,
     "metadata": {},
     "output_type": "execute_result"
    }
   ],
   "source": [
    "dataf.set_index('name')\n"
   ]
  },
  {
   "cell_type": "markdown",
   "id": "effd77de-d634-427b-8ccc-fefadbaccf5d",
   "metadata": {},
   "source": [
    "# 10 minutes to pandas\n",
    "\n",
    "Basic data structures in pandas\n",
    "\n",
    "Pandas provides two types of classes for handling data\n",
    "\n",
    "    __Series__ : a one-dimensional labeled array holding data of any type\n",
    "\n",
    "        such as integers, strings, Python objects etc.\n",
    "\n",
    "    __DataFrame__: a two-dimensional data structure that holds data like a two-dimension array or a table with rows and columns.\n",
    "\n",
    "#### Creating a **Series** by passing a list of values, letting pandas create a default **RangeIndex**\n"
   ]
  },
  {
   "cell_type": "code",
   "execution_count": 42,
   "id": "90d68d4d-4856-41d4-984f-6ecbe97b250b",
   "metadata": {},
   "outputs": [
    {
     "name": "stdout",
     "output_type": "stream",
     "text": [
      "0    1.0\n",
      "1    2.0\n",
      "2    3.0\n",
      "3    NaN\n",
      "4    5.0\n",
      "5    6.0\n",
      "dtype: float64\n"
     ]
    }
   ],
   "source": [
    "serie= pd.Series([1,2,3,np.nan,5,6])\n",
    "print(serie)"
   ]
  },
  {
   "cell_type": "markdown",
   "id": "dc9da4cb-8b61-4a50-bfa5-f07b8e43e85b",
   "metadata": {},
   "source": [
    "#### Creating a **DataFrame** by passing a NumPy array with a datetime index using **date_range()** and labeled columns:\n"
   ]
  },
  {
   "cell_type": "code",
   "execution_count": 3,
   "id": "8ff2b154-cdda-4367-a478-fcf5c0f5ff7f",
   "metadata": {},
   "outputs": [
    {
     "name": "stdout",
     "output_type": "stream",
     "text": [
      "DatetimeIndex(['2024-06-07', '2024-06-08', '2024-06-09', '2024-06-10',\n",
      "               '2024-06-11', '2024-06-12', '2024-06-13'],\n",
      "              dtype='datetime64[ns]', freq='D')\n"
     ]
    }
   ],
   "source": [
    "datarange= pd.date_range('20240607',periods=7)\n",
    "print(datarange)"
   ]
  },
  {
   "cell_type": "code",
   "execution_count": 5,
   "id": "b824da60-da34-4017-ae3f-bef08b36ec0e",
   "metadata": {},
   "outputs": [],
   "source": [
    "data_frame=pd.DataFrame(np.random.randn(7,4),index=datarange,columns=list(\"ABCD\"))"
   ]
  },
  {
   "cell_type": "code",
   "execution_count": 54,
   "id": "c1092ae6-5ce7-4221-9cbc-bb2ad6f2b6ff",
   "metadata": {},
   "outputs": [
    {
     "name": "stdout",
     "output_type": "stream",
     "text": [
      "                   A         B         C         D\n",
      "2024-06-07 -2.238099  1.246563  0.588261 -0.013110\n",
      "2024-06-08  1.236797 -0.150064 -0.966829 -0.524173\n",
      "2024-06-09  0.618945 -0.839805 -0.302175  0.222257\n",
      "2024-06-10 -0.952107  0.341111  1.367637  0.178250\n",
      "2024-06-11  0.503426 -1.074760  0.360423 -0.516776\n",
      "2024-06-12  0.877690 -1.062519  0.893875  1.579003\n",
      "2024-06-13 -0.329142 -0.387801  0.004431 -0.520897\n"
     ]
    }
   ],
   "source": [
    "print(data_frame)"
   ]
  },
  {
   "cell_type": "markdown",
   "id": "fdabbe8b-89d4-42b7-9367-b1334c8c9f05",
   "metadata": {},
   "source": [
    "#### Creating a **DataFrame** by passing a dictionary of objects where the keys are the column labels and the values are the column values."
   ]
  },
  {
   "cell_type": "code",
   "execution_count": 71,
   "id": "a009e224-c1f4-4b21-8102-57811efd14dd",
   "metadata": {},
   "outputs": [
    {
     "name": "stdout",
     "output_type": "stream",
     "text": [
      "     A          B    C  D      E    F\n",
      "0  1.0 2013-01-02  1.0  3   test  foo\n",
      "1  1.0 2013-01-02  1.0  3  train  foo\n",
      "2  1.0 2013-01-02  1.0  3   test  foo\n",
      "3  1.0 2013-01-02  1.0  3  train  foo\n"
     ]
    }
   ],
   "source": [
    "df2 = pd.DataFrame(\n",
    "    {\n",
    "        \"A\": 1.0,\n",
    "        \"B\": pd.Timestamp(\"20130102\"),\n",
    "        \"C\": pd.Series(1, index=list(range(4)), dtype=\"float32\"),\n",
    "        \"D\": np.array([3] * 4, dtype=\"int32\"),\n",
    "        \"E\": pd.Categorical([\"test\", \"train\", \"test\", \"train\"]),\n",
    "        \"F\": \"foo\",\n",
    "    }\n",
    ")\n",
    "print(df2)"
   ]
  },
  {
   "cell_type": "markdown",
   "id": "a28a607c-8fbd-427c-be40-ae2e11c75563",
   "metadata": {},
   "source": [
    "## Viewing data\n",
    "\n",
    "### Head and tail\n",
    "To view a small sample of a Series or DataFrame object, use the head() and tail() methods. The default number of elements to display is , but you may pass a custom number."
   ]
  },
  {
   "cell_type": "markdown",
   "id": "c6087ed2-e575-4202-a851-b6cb586c87fc",
   "metadata": {},
   "source": [
    "The method df.info() gives some statistics for each column."
   ]
  },
  {
   "cell_type": "code",
   "execution_count": 100,
   "id": "d714316d-8d3a-4ec2-8b26-aa01d5a1a6c3",
   "metadata": {},
   "outputs": [
    {
     "name": "stdout",
     "output_type": "stream",
     "text": [
      "<class 'pandas.core.frame.DataFrame'>\n",
      "DatetimeIndex: 7 entries, 2024-06-07 to 2024-06-13\n",
      "Freq: D\n",
      "Data columns (total 4 columns):\n",
      " #   Column  Non-Null Count  Dtype  \n",
      "---  ------  --------------  -----  \n",
      " 0   A       7 non-null      float64\n",
      " 1   B       7 non-null      float64\n",
      " 2   C       7 non-null      float64\n",
      " 3   D       7 non-null      float64\n",
      "dtypes: float64(4)\n",
      "memory usage: 280.0 bytes\n"
     ]
    }
   ],
   "source": [
    "data_frame.info() "
   ]
  },
  {
   "cell_type": "code",
   "execution_count": 73,
   "id": "50aa624d-093d-4c9d-988f-9c3b6f06993c",
   "metadata": {},
   "outputs": [
    {
     "data": {
      "text/html": [
       "<div>\n",
       "<style scoped>\n",
       "    .dataframe tbody tr th:only-of-type {\n",
       "        vertical-align: middle;\n",
       "    }\n",
       "\n",
       "    .dataframe tbody tr th {\n",
       "        vertical-align: top;\n",
       "    }\n",
       "\n",
       "    .dataframe thead th {\n",
       "        text-align: right;\n",
       "    }\n",
       "</style>\n",
       "<table border=\"1\" class=\"dataframe\">\n",
       "  <thead>\n",
       "    <tr style=\"text-align: right;\">\n",
       "      <th></th>\n",
       "      <th>A</th>\n",
       "      <th>B</th>\n",
       "      <th>C</th>\n",
       "      <th>D</th>\n",
       "    </tr>\n",
       "  </thead>\n",
       "  <tbody>\n",
       "    <tr>\n",
       "      <th>2024-06-07</th>\n",
       "      <td>-2.238099</td>\n",
       "      <td>1.246563</td>\n",
       "      <td>0.588261</td>\n",
       "      <td>-0.013110</td>\n",
       "    </tr>\n",
       "    <tr>\n",
       "      <th>2024-06-08</th>\n",
       "      <td>1.236797</td>\n",
       "      <td>-0.150064</td>\n",
       "      <td>-0.966829</td>\n",
       "      <td>-0.524173</td>\n",
       "    </tr>\n",
       "    <tr>\n",
       "      <th>2024-06-09</th>\n",
       "      <td>0.618945</td>\n",
       "      <td>-0.839805</td>\n",
       "      <td>-0.302175</td>\n",
       "      <td>0.222257</td>\n",
       "    </tr>\n",
       "    <tr>\n",
       "      <th>2024-06-10</th>\n",
       "      <td>-0.952107</td>\n",
       "      <td>0.341111</td>\n",
       "      <td>1.367637</td>\n",
       "      <td>0.178250</td>\n",
       "    </tr>\n",
       "    <tr>\n",
       "      <th>2024-06-11</th>\n",
       "      <td>0.503426</td>\n",
       "      <td>-1.074760</td>\n",
       "      <td>0.360423</td>\n",
       "      <td>-0.516776</td>\n",
       "    </tr>\n",
       "  </tbody>\n",
       "</table>\n",
       "</div>"
      ],
      "text/plain": [
       "                   A         B         C         D\n",
       "2024-06-07 -2.238099  1.246563  0.588261 -0.013110\n",
       "2024-06-08  1.236797 -0.150064 -0.966829 -0.524173\n",
       "2024-06-09  0.618945 -0.839805 -0.302175  0.222257\n",
       "2024-06-10 -0.952107  0.341111  1.367637  0.178250\n",
       "2024-06-11  0.503426 -1.074760  0.360423 -0.516776"
      ]
     },
     "execution_count": 73,
     "metadata": {},
     "output_type": "execute_result"
    }
   ],
   "source": [
    "data_frame.head() # muestra 5 registros del DataFrame"
   ]
  },
  {
   "cell_type": "code",
   "execution_count": 75,
   "id": "89d4e60b-b7ca-48e5-b4a7-2d6f9d210a8f",
   "metadata": {},
   "outputs": [
    {
     "data": {
      "text/html": [
       "<div>\n",
       "<style scoped>\n",
       "    .dataframe tbody tr th:only-of-type {\n",
       "        vertical-align: middle;\n",
       "    }\n",
       "\n",
       "    .dataframe tbody tr th {\n",
       "        vertical-align: top;\n",
       "    }\n",
       "\n",
       "    .dataframe thead th {\n",
       "        text-align: right;\n",
       "    }\n",
       "</style>\n",
       "<table border=\"1\" class=\"dataframe\">\n",
       "  <thead>\n",
       "    <tr style=\"text-align: right;\">\n",
       "      <th></th>\n",
       "      <th>A</th>\n",
       "      <th>B</th>\n",
       "      <th>C</th>\n",
       "      <th>D</th>\n",
       "    </tr>\n",
       "  </thead>\n",
       "  <tbody>\n",
       "    <tr>\n",
       "      <th>2024-06-11</th>\n",
       "      <td>0.503426</td>\n",
       "      <td>-1.074760</td>\n",
       "      <td>0.360423</td>\n",
       "      <td>-0.516776</td>\n",
       "    </tr>\n",
       "    <tr>\n",
       "      <th>2024-06-12</th>\n",
       "      <td>0.877690</td>\n",
       "      <td>-1.062519</td>\n",
       "      <td>0.893875</td>\n",
       "      <td>1.579003</td>\n",
       "    </tr>\n",
       "    <tr>\n",
       "      <th>2024-06-13</th>\n",
       "      <td>-0.329142</td>\n",
       "      <td>-0.387801</td>\n",
       "      <td>0.004431</td>\n",
       "      <td>-0.520897</td>\n",
       "    </tr>\n",
       "  </tbody>\n",
       "</table>\n",
       "</div>"
      ],
      "text/plain": [
       "                   A         B         C         D\n",
       "2024-06-11  0.503426 -1.074760  0.360423 -0.516776\n",
       "2024-06-12  0.877690 -1.062519  0.893875  1.579003\n",
       "2024-06-13 -0.329142 -0.387801  0.004431 -0.520897"
      ]
     },
     "execution_count": 75,
     "metadata": {},
     "output_type": "execute_result"
    }
   ],
   "source": [
    "data_frame.tail(3) #muestra el numero de registros indicados en el tail()"
   ]
  },
  {
   "cell_type": "markdown",
   "id": "d0a1082a-8988-49e3-b390-e8d8070182f0",
   "metadata": {},
   "source": [
    "### Select Columns\n",
    "\n",
    "There are two possible syntaxes for selecting all values from a column:\n",
    "1)  Select the column as if you were selecting a value from a dictionary using a key. In our example, we would type customers['age'] to select the ages.\n",
    "2) If the name of a column follows all of the rules for a variable name (doesn’t start with a number, doesn’t contain spaces or special characters, etc.), then you can select it using the following notation: df.MySecondColumn. In our example, we would type customers.age."
   ]
  },
  {
   "cell_type": "code",
   "execution_count": 105,
   "id": "808a0eba-ad9d-40d3-b949-0b3d88b7e4c1",
   "metadata": {},
   "outputs": [
    {
     "name": "stdout",
     "output_type": "stream",
     "text": [
      "0    100\n",
      "1     45\n",
      "2     96\n",
      "3     80\n",
      "4     54\n",
      "5    109\n",
      "Name: clinic_north, dtype: int64\n",
      "<class 'pandas.core.series.Series'>\n"
     ]
    }
   ],
   "source": [
    "df = pd.DataFrame([\n",
    "  ['January', 100, 100, 23, 100],\n",
    "  ['February', 51, 45, 145, 45],\n",
    "  ['March', 81, 96, 65, 96],\n",
    "  ['April', 80, 80, 54, 180],\n",
    "  ['May', 51, 54, 54, 154],\n",
    "  ['June', 112, 109, 79, 129]],\n",
    "  columns=['month', 'clinic_east',\n",
    "           'clinic_north', 'clinic_south',\n",
    "           'clinic_west']\n",
    ")\n",
    "\n",
    "clinic_north = df.clinic_north\n",
    "print(clinic_north)\n",
    "\n",
    "#to see what data type you’ve created. \n",
    "print(type(clinic_north))"
   ]
  },
  {
   "cell_type": "markdown",
   "id": "225602fb-9148-4082-9aa6-cee58e0cdd47",
   "metadata": {},
   "source": [
    "To select two or more columns from a DataFrame, we use a list of the column names. To create the DataFrame shown above, we would use:\n"
   ]
  },
  {
   "cell_type": "code",
   "execution_count": 10,
   "id": "435109e7-fffa-414b-94fd-ab5ba1656e37",
   "metadata": {},
   "outputs": [
    {
     "name": "stdout",
     "output_type": "stream",
     "text": [
      "   clinic_north  clinic_south\n",
      "0           100            23\n",
      "1            45           145\n",
      "2            96            65\n",
      "3            80            54\n",
      "4            54            54\n",
      "5           109            79\n",
      "<class 'pandas.core.frame.DataFrame'>\n"
     ]
    }
   ],
   "source": [
    "df_2 = pd.DataFrame([\n",
    "  ['January', 100, 100, 23, 100],\n",
    "  ['February', 51, 45, 145, 45],\n",
    "  ['March', 81, 96, 65, 96],\n",
    "  ['April', 80, 80, 54, 180],\n",
    "  ['May', 51, 54, 54, 154],\n",
    "  ['June', 112, 109, 79, 129]],\n",
    "  columns=['month', 'clinic_east',\n",
    "           'clinic_north', 'clinic_south',\n",
    "           'clinic_west']\n",
    ")\n",
    "\n",
    "clinic_north_south= df_2[['clinic_north','clinic_south']]\n",
    "\n",
    "print(clinic_north_south)\n",
    "print(type(clinic_north_south))"
   ]
  },
  {
   "cell_type": "markdown",
   "id": "6e76b4bb-3c1e-451a-8a99-bbd0310509b9",
   "metadata": {},
   "source": [
    "Display the **DataFrame.index** or **DataFrame.columns**:"
   ]
  },
  {
   "cell_type": "code",
   "execution_count": 86,
   "id": "094c8b48-ea0d-46a4-a21e-d09d2a4e9124",
   "metadata": {},
   "outputs": [
    {
     "data": {
      "text/plain": [
       "DatetimeIndex(['2024-06-07', '2024-06-08', '2024-06-09', '2024-06-10',\n",
       "               '2024-06-11', '2024-06-12', '2024-06-13'],\n",
       "              dtype='datetime64[ns]', freq='D')"
      ]
     },
     "execution_count": 86,
     "metadata": {},
     "output_type": "execute_result"
    }
   ],
   "source": [
    "data_frame.index #Retorna los indices del DataFrame"
   ]
  },
  {
   "cell_type": "code",
   "execution_count": 88,
   "id": "98b0c025-1403-47d3-af92-cf47186c02da",
   "metadata": {},
   "outputs": [
    {
     "data": {
      "text/plain": [
       "Index(['A', 'B', 'C', 'D'], dtype='object')"
      ]
     },
     "execution_count": 88,
     "metadata": {},
     "output_type": "execute_result"
    }
   ],
   "source": [
    "data_frame.columns # Retorna las columnas del dataframe"
   ]
  },
  {
   "cell_type": "markdown",
   "id": "719b7967-260e-4601-909e-736384cdd3ff",
   "metadata": {},
   "source": [
    "Return a NumPy representation of the underlying data with DataFrame.to_numpy() **without the index or column labels**:"
   ]
  },
  {
   "cell_type": "code",
   "execution_count": 93,
   "id": "23fd7528-25e4-4ed8-981e-234b3b45895f",
   "metadata": {},
   "outputs": [
    {
     "data": {
      "text/plain": [
       "array([[-2.2380994 ,  1.24656313,  0.58826056, -0.01310956],\n",
       "       [ 1.23679673, -0.15006444, -0.96682929, -0.52417323],\n",
       "       [ 0.61894532, -0.83980464, -0.30217464,  0.22225733],\n",
       "       [-0.95210651,  0.3411105 ,  1.36763704,  0.1782496 ],\n",
       "       [ 0.50342646, -1.07476043,  0.3604232 , -0.51677614],\n",
       "       [ 0.87769006, -1.06251931,  0.89387502,  1.57900349],\n",
       "       [-0.32914201, -0.38780052,  0.0044313 , -0.52089744]])"
      ]
     },
     "execution_count": 93,
     "metadata": {},
     "output_type": "execute_result"
    }
   ],
   "source": [
    "data_frame.to_numpy()"
   ]
  },
  {
   "cell_type": "markdown",
   "id": "4e5a604a-bfae-4ddc-9c33-805730a314e2",
   "metadata": {},
   "source": [
    "**NumPy arrays have one dtype for the entire array while pandas DataFrames have one dtype per column.**"
   ]
  },
  {
   "cell_type": "code",
   "execution_count": 100,
   "id": "eaeb1926-e521-4d62-bb52-52f669a5dfec",
   "metadata": {},
   "outputs": [
    {
     "data": {
      "text/plain": [
       "A    float64\n",
       "B    float64\n",
       "C    float64\n",
       "D    float64\n",
       "dtype: object"
      ]
     },
     "execution_count": 100,
     "metadata": {},
     "output_type": "execute_result"
    }
   ],
   "source": [
    "data_frame.dtypes"
   ]
  },
  {
   "cell_type": "markdown",
   "id": "9d49ba81-0e39-46cb-b4e8-73520fbd0916",
   "metadata": {},
   "source": [
    "PIVOT by Pandas Transposing your data:"
   ]
  },
  {
   "cell_type": "code",
   "execution_count": 102,
   "id": "638eb60f-b10e-45a1-9ea5-76da70d2ab4d",
   "metadata": {},
   "outputs": [
    {
     "data": {
      "text/html": [
       "<div>\n",
       "<style scoped>\n",
       "    .dataframe tbody tr th:only-of-type {\n",
       "        vertical-align: middle;\n",
       "    }\n",
       "\n",
       "    .dataframe tbody tr th {\n",
       "        vertical-align: top;\n",
       "    }\n",
       "\n",
       "    .dataframe thead th {\n",
       "        text-align: right;\n",
       "    }\n",
       "</style>\n",
       "<table border=\"1\" class=\"dataframe\">\n",
       "  <thead>\n",
       "    <tr style=\"text-align: right;\">\n",
       "      <th></th>\n",
       "      <th>2024-06-07</th>\n",
       "      <th>2024-06-08</th>\n",
       "      <th>2024-06-09</th>\n",
       "      <th>2024-06-10</th>\n",
       "      <th>2024-06-11</th>\n",
       "      <th>2024-06-12</th>\n",
       "      <th>2024-06-13</th>\n",
       "    </tr>\n",
       "  </thead>\n",
       "  <tbody>\n",
       "    <tr>\n",
       "      <th>A</th>\n",
       "      <td>-2.238099</td>\n",
       "      <td>1.236797</td>\n",
       "      <td>0.618945</td>\n",
       "      <td>-0.952107</td>\n",
       "      <td>0.503426</td>\n",
       "      <td>0.877690</td>\n",
       "      <td>-0.329142</td>\n",
       "    </tr>\n",
       "    <tr>\n",
       "      <th>B</th>\n",
       "      <td>1.246563</td>\n",
       "      <td>-0.150064</td>\n",
       "      <td>-0.839805</td>\n",
       "      <td>0.341111</td>\n",
       "      <td>-1.074760</td>\n",
       "      <td>-1.062519</td>\n",
       "      <td>-0.387801</td>\n",
       "    </tr>\n",
       "    <tr>\n",
       "      <th>C</th>\n",
       "      <td>0.588261</td>\n",
       "      <td>-0.966829</td>\n",
       "      <td>-0.302175</td>\n",
       "      <td>1.367637</td>\n",
       "      <td>0.360423</td>\n",
       "      <td>0.893875</td>\n",
       "      <td>0.004431</td>\n",
       "    </tr>\n",
       "    <tr>\n",
       "      <th>D</th>\n",
       "      <td>-0.013110</td>\n",
       "      <td>-0.524173</td>\n",
       "      <td>0.222257</td>\n",
       "      <td>0.178250</td>\n",
       "      <td>-0.516776</td>\n",
       "      <td>1.579003</td>\n",
       "      <td>-0.520897</td>\n",
       "    </tr>\n",
       "  </tbody>\n",
       "</table>\n",
       "</div>"
      ],
      "text/plain": [
       "   2024-06-07  2024-06-08  2024-06-09  2024-06-10  2024-06-11  2024-06-12  \\\n",
       "A   -2.238099    1.236797    0.618945   -0.952107    0.503426    0.877690   \n",
       "B    1.246563   -0.150064   -0.839805    0.341111   -1.074760   -1.062519   \n",
       "C    0.588261   -0.966829   -0.302175    1.367637    0.360423    0.893875   \n",
       "D   -0.013110   -0.524173    0.222257    0.178250   -0.516776    1.579003   \n",
       "\n",
       "   2024-06-13  \n",
       "A   -0.329142  \n",
       "B   -0.387801  \n",
       "C    0.004431  \n",
       "D   -0.520897  "
      ]
     },
     "execution_count": 102,
     "metadata": {},
     "output_type": "execute_result"
    }
   ],
   "source": [
    "data_frame.T"
   ]
  },
  {
   "cell_type": "markdown",
   "id": "28c36908-d017-4251-8ba5-4a9bf7e036dc",
   "metadata": {},
   "source": [
    "**DataFrame.sort_index()** sorts by an axis:"
   ]
  },
  {
   "cell_type": "code",
   "execution_count": 115,
   "id": "b1d57383-0b40-4c8c-960f-c59e51665e42",
   "metadata": {},
   "outputs": [
    {
     "data": {
      "text/html": [
       "<div>\n",
       "<style scoped>\n",
       "    .dataframe tbody tr th:only-of-type {\n",
       "        vertical-align: middle;\n",
       "    }\n",
       "\n",
       "    .dataframe tbody tr th {\n",
       "        vertical-align: top;\n",
       "    }\n",
       "\n",
       "    .dataframe thead th {\n",
       "        text-align: right;\n",
       "    }\n",
       "</style>\n",
       "<table border=\"1\" class=\"dataframe\">\n",
       "  <thead>\n",
       "    <tr style=\"text-align: right;\">\n",
       "      <th></th>\n",
       "      <th>D</th>\n",
       "      <th>C</th>\n",
       "      <th>B</th>\n",
       "      <th>A</th>\n",
       "    </tr>\n",
       "  </thead>\n",
       "  <tbody>\n",
       "    <tr>\n",
       "      <th>2024-06-07</th>\n",
       "      <td>-0.013110</td>\n",
       "      <td>0.588261</td>\n",
       "      <td>1.246563</td>\n",
       "      <td>-2.238099</td>\n",
       "    </tr>\n",
       "    <tr>\n",
       "      <th>2024-06-08</th>\n",
       "      <td>-0.524173</td>\n",
       "      <td>-0.966829</td>\n",
       "      <td>-0.150064</td>\n",
       "      <td>1.236797</td>\n",
       "    </tr>\n",
       "    <tr>\n",
       "      <th>2024-06-09</th>\n",
       "      <td>0.222257</td>\n",
       "      <td>-0.302175</td>\n",
       "      <td>-0.839805</td>\n",
       "      <td>0.618945</td>\n",
       "    </tr>\n",
       "    <tr>\n",
       "      <th>2024-06-10</th>\n",
       "      <td>0.178250</td>\n",
       "      <td>1.367637</td>\n",
       "      <td>0.341111</td>\n",
       "      <td>-0.952107</td>\n",
       "    </tr>\n",
       "    <tr>\n",
       "      <th>2024-06-11</th>\n",
       "      <td>-0.516776</td>\n",
       "      <td>0.360423</td>\n",
       "      <td>-1.074760</td>\n",
       "      <td>0.503426</td>\n",
       "    </tr>\n",
       "    <tr>\n",
       "      <th>2024-06-12</th>\n",
       "      <td>1.579003</td>\n",
       "      <td>0.893875</td>\n",
       "      <td>-1.062519</td>\n",
       "      <td>0.877690</td>\n",
       "    </tr>\n",
       "    <tr>\n",
       "      <th>2024-06-13</th>\n",
       "      <td>-0.520897</td>\n",
       "      <td>0.004431</td>\n",
       "      <td>-0.387801</td>\n",
       "      <td>-0.329142</td>\n",
       "    </tr>\n",
       "  </tbody>\n",
       "</table>\n",
       "</div>"
      ],
      "text/plain": [
       "                   D         C         B         A\n",
       "2024-06-07 -0.013110  0.588261  1.246563 -2.238099\n",
       "2024-06-08 -0.524173 -0.966829 -0.150064  1.236797\n",
       "2024-06-09  0.222257 -0.302175 -0.839805  0.618945\n",
       "2024-06-10  0.178250  1.367637  0.341111 -0.952107\n",
       "2024-06-11 -0.516776  0.360423 -1.074760  0.503426\n",
       "2024-06-12  1.579003  0.893875 -1.062519  0.877690\n",
       "2024-06-13 -0.520897  0.004431 -0.387801 -0.329142"
      ]
     },
     "execution_count": 115,
     "metadata": {},
     "output_type": "execute_result"
    }
   ],
   "source": [
    "data_frame.sort_index(axis=1, ascending=False)"
   ]
  },
  {
   "cell_type": "markdown",
   "id": "319286e2-76fd-4ad5-935f-033ee2a9e06b",
   "metadata": {},
   "source": [
    "DataFrame.sort_values() sorts by values:"
   ]
  },
  {
   "cell_type": "code",
   "execution_count": 12,
   "id": "22861ecb-d181-43df-a5c9-fe013e76ae21",
   "metadata": {},
   "outputs": [
    {
     "data": {
      "text/html": [
       "<div>\n",
       "<style scoped>\n",
       "    .dataframe tbody tr th:only-of-type {\n",
       "        vertical-align: middle;\n",
       "    }\n",
       "\n",
       "    .dataframe tbody tr th {\n",
       "        vertical-align: top;\n",
       "    }\n",
       "\n",
       "    .dataframe thead th {\n",
       "        text-align: right;\n",
       "    }\n",
       "</style>\n",
       "<table border=\"1\" class=\"dataframe\">\n",
       "  <thead>\n",
       "    <tr style=\"text-align: right;\">\n",
       "      <th></th>\n",
       "      <th>A</th>\n",
       "      <th>B</th>\n",
       "      <th>C</th>\n",
       "      <th>D</th>\n",
       "    </tr>\n",
       "  </thead>\n",
       "  <tbody>\n",
       "    <tr>\n",
       "      <th>2024-06-13</th>\n",
       "      <td>-0.038482</td>\n",
       "      <td>-1.896800</td>\n",
       "      <td>-0.478478</td>\n",
       "      <td>0.858792</td>\n",
       "    </tr>\n",
       "    <tr>\n",
       "      <th>2024-06-12</th>\n",
       "      <td>1.033605</td>\n",
       "      <td>-1.093287</td>\n",
       "      <td>-1.040220</td>\n",
       "      <td>-0.837864</td>\n",
       "    </tr>\n",
       "    <tr>\n",
       "      <th>2024-06-08</th>\n",
       "      <td>0.163661</td>\n",
       "      <td>-0.556781</td>\n",
       "      <td>-0.065616</td>\n",
       "      <td>-0.330659</td>\n",
       "    </tr>\n",
       "    <tr>\n",
       "      <th>2024-06-09</th>\n",
       "      <td>0.071845</td>\n",
       "      <td>-0.270095</td>\n",
       "      <td>1.161171</td>\n",
       "      <td>-0.045670</td>\n",
       "    </tr>\n",
       "    <tr>\n",
       "      <th>2024-06-10</th>\n",
       "      <td>0.513841</td>\n",
       "      <td>0.576847</td>\n",
       "      <td>-0.487018</td>\n",
       "      <td>1.579464</td>\n",
       "    </tr>\n",
       "    <tr>\n",
       "      <th>2024-06-07</th>\n",
       "      <td>0.826671</td>\n",
       "      <td>1.211510</td>\n",
       "      <td>-0.465816</td>\n",
       "      <td>-1.018766</td>\n",
       "    </tr>\n",
       "    <tr>\n",
       "      <th>2024-06-11</th>\n",
       "      <td>-0.060594</td>\n",
       "      <td>1.731706</td>\n",
       "      <td>-1.940312</td>\n",
       "      <td>1.177172</td>\n",
       "    </tr>\n",
       "  </tbody>\n",
       "</table>\n",
       "</div>"
      ],
      "text/plain": [
       "                   A         B         C         D\n",
       "2024-06-13 -0.038482 -1.896800 -0.478478  0.858792\n",
       "2024-06-12  1.033605 -1.093287 -1.040220 -0.837864\n",
       "2024-06-08  0.163661 -0.556781 -0.065616 -0.330659\n",
       "2024-06-09  0.071845 -0.270095  1.161171 -0.045670\n",
       "2024-06-10  0.513841  0.576847 -0.487018  1.579464\n",
       "2024-06-07  0.826671  1.211510 -0.465816 -1.018766\n",
       "2024-06-11 -0.060594  1.731706 -1.940312  1.177172"
      ]
     },
     "execution_count": 12,
     "metadata": {},
     "output_type": "execute_result"
    }
   ],
   "source": [
    "data_frame.sort_values(by=\"B\")"
   ]
  },
  {
   "cell_type": "markdown",
   "id": "14ca5331-70fe-49d6-b419-6d4682a9c37b",
   "metadata": {},
   "source": [
    "### Selection\n",
    "Getitem ([])\n",
    "For a DataFrame, passing a single label selects a columns and yields a Series equivalent to df.A"
   ]
  },
  {
   "cell_type": "code",
   "execution_count": 14,
   "id": "5775c706-052e-465f-883e-9786041bc392",
   "metadata": {},
   "outputs": [
    {
     "data": {
      "text/plain": [
       "2024-06-07    0.826671\n",
       "2024-06-08    0.163661\n",
       "2024-06-09    0.071845\n",
       "2024-06-10    0.513841\n",
       "2024-06-11   -0.060594\n",
       "2024-06-12    1.033605\n",
       "2024-06-13   -0.038482\n",
       "Freq: D, Name: A, dtype: float64"
      ]
     },
     "execution_count": 14,
     "metadata": {},
     "output_type": "execute_result"
    }
   ],
   "source": [
    "data_frame[\"A\"]"
   ]
  },
  {
   "cell_type": "markdown",
   "id": "50b82de2-cd77-43b7-925e-d39046b89f37",
   "metadata": {},
   "source": [
    "For a DataFrame, passing a slice : selects matching rows:"
   ]
  },
  {
   "cell_type": "code",
   "execution_count": 26,
   "id": "d5e71386-3913-496c-927f-58705e93ced2",
   "metadata": {},
   "outputs": [
    {
     "data": {
      "text/html": [
       "<div>\n",
       "<style scoped>\n",
       "    .dataframe tbody tr th:only-of-type {\n",
       "        vertical-align: middle;\n",
       "    }\n",
       "\n",
       "    .dataframe tbody tr th {\n",
       "        vertical-align: top;\n",
       "    }\n",
       "\n",
       "    .dataframe thead th {\n",
       "        text-align: right;\n",
       "    }\n",
       "</style>\n",
       "<table border=\"1\" class=\"dataframe\">\n",
       "  <thead>\n",
       "    <tr style=\"text-align: right;\">\n",
       "      <th></th>\n",
       "      <th>A</th>\n",
       "      <th>B</th>\n",
       "      <th>C</th>\n",
       "      <th>D</th>\n",
       "    </tr>\n",
       "  </thead>\n",
       "  <tbody>\n",
       "    <tr>\n",
       "      <th>2024-06-07</th>\n",
       "      <td>0.826671</td>\n",
       "      <td>1.211510</td>\n",
       "      <td>-0.465816</td>\n",
       "      <td>-1.018766</td>\n",
       "    </tr>\n",
       "    <tr>\n",
       "      <th>2024-06-08</th>\n",
       "      <td>0.163661</td>\n",
       "      <td>-0.556781</td>\n",
       "      <td>-0.065616</td>\n",
       "      <td>-0.330659</td>\n",
       "    </tr>\n",
       "    <tr>\n",
       "      <th>2024-06-09</th>\n",
       "      <td>0.071845</td>\n",
       "      <td>-0.270095</td>\n",
       "      <td>1.161171</td>\n",
       "      <td>-0.045670</td>\n",
       "    </tr>\n",
       "    <tr>\n",
       "      <th>2024-06-10</th>\n",
       "      <td>0.513841</td>\n",
       "      <td>0.576847</td>\n",
       "      <td>-0.487018</td>\n",
       "      <td>1.579464</td>\n",
       "    </tr>\n",
       "  </tbody>\n",
       "</table>\n",
       "</div>"
      ],
      "text/plain": [
       "                   A         B         C         D\n",
       "2024-06-07  0.826671  1.211510 -0.465816 -1.018766\n",
       "2024-06-08  0.163661 -0.556781 -0.065616 -0.330659\n",
       "2024-06-09  0.071845 -0.270095  1.161171 -0.045670\n",
       "2024-06-10  0.513841  0.576847 -0.487018  1.579464"
      ]
     },
     "execution_count": 26,
     "metadata": {},
     "output_type": "execute_result"
    }
   ],
   "source": [
    "data_frame[0:4]"
   ]
  },
  {
   "cell_type": "markdown",
   "id": "d390ec79-7888-412f-95cf-f5af8027cd89",
   "metadata": {},
   "source": [
    "### Selection by label\n",
    "\n",
    "See more in Selection by Label using DataFrame.loc() or DataFrame.at().\n",
    "\n",
    "Selecting all rows (:) with a select column labels:\n"
   ]
  },
  {
   "cell_type": "code",
   "execution_count": 36,
   "id": "65e92bc1-de41-4c95-8b08-142073635195",
   "metadata": {},
   "outputs": [
    {
     "data": {
      "text/html": [
       "<div>\n",
       "<style scoped>\n",
       "    .dataframe tbody tr th:only-of-type {\n",
       "        vertical-align: middle;\n",
       "    }\n",
       "\n",
       "    .dataframe tbody tr th {\n",
       "        vertical-align: top;\n",
       "    }\n",
       "\n",
       "    .dataframe thead th {\n",
       "        text-align: right;\n",
       "    }\n",
       "</style>\n",
       "<table border=\"1\" class=\"dataframe\">\n",
       "  <thead>\n",
       "    <tr style=\"text-align: right;\">\n",
       "      <th></th>\n",
       "      <th>A</th>\n",
       "      <th>D</th>\n",
       "    </tr>\n",
       "  </thead>\n",
       "  <tbody>\n",
       "    <tr>\n",
       "      <th>2024-06-07</th>\n",
       "      <td>0.826671</td>\n",
       "      <td>-1.018766</td>\n",
       "    </tr>\n",
       "    <tr>\n",
       "      <th>2024-06-08</th>\n",
       "      <td>0.163661</td>\n",
       "      <td>-0.330659</td>\n",
       "    </tr>\n",
       "    <tr>\n",
       "      <th>2024-06-09</th>\n",
       "      <td>0.071845</td>\n",
       "      <td>-0.045670</td>\n",
       "    </tr>\n",
       "    <tr>\n",
       "      <th>2024-06-10</th>\n",
       "      <td>0.513841</td>\n",
       "      <td>1.579464</td>\n",
       "    </tr>\n",
       "    <tr>\n",
       "      <th>2024-06-11</th>\n",
       "      <td>-0.060594</td>\n",
       "      <td>1.177172</td>\n",
       "    </tr>\n",
       "    <tr>\n",
       "      <th>2024-06-12</th>\n",
       "      <td>1.033605</td>\n",
       "      <td>-0.837864</td>\n",
       "    </tr>\n",
       "    <tr>\n",
       "      <th>2024-06-13</th>\n",
       "      <td>-0.038482</td>\n",
       "      <td>0.858792</td>\n",
       "    </tr>\n",
       "  </tbody>\n",
       "</table>\n",
       "</div>"
      ],
      "text/plain": [
       "                   A         D\n",
       "2024-06-07  0.826671 -1.018766\n",
       "2024-06-08  0.163661 -0.330659\n",
       "2024-06-09  0.071845 -0.045670\n",
       "2024-06-10  0.513841  1.579464\n",
       "2024-06-11 -0.060594  1.177172\n",
       "2024-06-12  1.033605 -0.837864\n",
       "2024-06-13 -0.038482  0.858792"
      ]
     },
     "execution_count": 36,
     "metadata": {},
     "output_type": "execute_result"
    }
   ],
   "source": [
    "data_frame.loc[:,[\"A\", \"D\"]]"
   ]
  },
  {
   "cell_type": "markdown",
   "id": "2392a32b-5c19-400b-bbca-fda616c07b65",
   "metadata": {},
   "source": [
    "For label slicing, both endpoints are included:"
   ]
  },
  {
   "cell_type": "code",
   "execution_count": 40,
   "id": "96775c03-a73e-47a4-8f8d-529fff26bb85",
   "metadata": {},
   "outputs": [
    {
     "data": {
      "text/html": [
       "<div>\n",
       "<style scoped>\n",
       "    .dataframe tbody tr th:only-of-type {\n",
       "        vertical-align: middle;\n",
       "    }\n",
       "\n",
       "    .dataframe tbody tr th {\n",
       "        vertical-align: top;\n",
       "    }\n",
       "\n",
       "    .dataframe thead th {\n",
       "        text-align: right;\n",
       "    }\n",
       "</style>\n",
       "<table border=\"1\" class=\"dataframe\">\n",
       "  <thead>\n",
       "    <tr style=\"text-align: right;\">\n",
       "      <th></th>\n",
       "      <th>A</th>\n",
       "      <th>B</th>\n",
       "    </tr>\n",
       "  </thead>\n",
       "  <tbody>\n",
       "    <tr>\n",
       "      <th>2024-06-07</th>\n",
       "      <td>0.826671</td>\n",
       "      <td>1.211510</td>\n",
       "    </tr>\n",
       "    <tr>\n",
       "      <th>2024-06-08</th>\n",
       "      <td>0.163661</td>\n",
       "      <td>-0.556781</td>\n",
       "    </tr>\n",
       "    <tr>\n",
       "      <th>2024-06-09</th>\n",
       "      <td>0.071845</td>\n",
       "      <td>-0.270095</td>\n",
       "    </tr>\n",
       "  </tbody>\n",
       "</table>\n",
       "</div>"
      ],
      "text/plain": [
       "                   A         B\n",
       "2024-06-07  0.826671  1.211510\n",
       "2024-06-08  0.163661 -0.556781\n",
       "2024-06-09  0.071845 -0.270095"
      ]
     },
     "execution_count": 40,
     "metadata": {},
     "output_type": "execute_result"
    }
   ],
   "source": [
    "data_frame.loc['20240607':'20240609',[\"A\",\"B\"]]"
   ]
  },
  {
   "cell_type": "markdown",
   "id": "03ea7bae-6a5d-4452-b1b4-de4ce04c4554",
   "metadata": {},
   "source": [
    "### Selection by position\n",
    "\n",
    "See more in Selection by Position using DataFrame.iloc() or DataFrame.iat().\n",
    "\n",
    "Select via the position of the passed integers:"
   ]
  },
  {
   "cell_type": "code",
   "execution_count": 75,
   "id": "458dc783-4f7b-477c-a9f9-267e95b6e72d",
   "metadata": {},
   "outputs": [
    {
     "data": {
      "text/plain": [
       "A    0.547998\n",
       "B   -1.641096\n",
       "C   -0.657083\n",
       "D    0.321402\n",
       "Name: 2024-06-09 00:00:00, dtype: float64"
      ]
     },
     "execution_count": 75,
     "metadata": {},
     "output_type": "execute_result"
    }
   ],
   "source": [
    "data_frame.iloc[2]"
   ]
  },
  {
   "cell_type": "markdown",
   "id": "94307a3a-5ff9-4b35-b3eb-d457d2ab8182",
   "metadata": {},
   "source": [
    "Integer slices acts similar to NumPy/Python:"
   ]
  },
  {
   "cell_type": "code",
   "execution_count": 79,
   "id": "b459c3db-e3c4-453d-b800-cc550d03cc36",
   "metadata": {},
   "outputs": [
    {
     "data": {
      "text/html": [
       "<div>\n",
       "<style scoped>\n",
       "    .dataframe tbody tr th:only-of-type {\n",
       "        vertical-align: middle;\n",
       "    }\n",
       "\n",
       "    .dataframe tbody tr th {\n",
       "        vertical-align: top;\n",
       "    }\n",
       "\n",
       "    .dataframe thead th {\n",
       "        text-align: right;\n",
       "    }\n",
       "</style>\n",
       "<table border=\"1\" class=\"dataframe\">\n",
       "  <thead>\n",
       "    <tr style=\"text-align: right;\">\n",
       "      <th></th>\n",
       "      <th>B</th>\n",
       "    </tr>\n",
       "  </thead>\n",
       "  <tbody>\n",
       "    <tr>\n",
       "      <th>2024-06-09</th>\n",
       "      <td>-1.641096</td>\n",
       "    </tr>\n",
       "    <tr>\n",
       "      <th>2024-06-10</th>\n",
       "      <td>2.872498</td>\n",
       "    </tr>\n",
       "  </tbody>\n",
       "</table>\n",
       "</div>"
      ],
      "text/plain": [
       "                   B\n",
       "2024-06-09 -1.641096\n",
       "2024-06-10  2.872498"
      ]
     },
     "execution_count": 79,
     "metadata": {},
     "output_type": "execute_result"
    }
   ],
   "source": [
    "data_frame.iloc[2:4,1:2]"
   ]
  },
  {
   "cell_type": "markdown",
   "id": "3650af00-8139-4cd6-90aa-cb5edee4f7e8",
   "metadata": {},
   "source": [
    "Lists of integer position locations:"
   ]
  },
  {
   "cell_type": "code",
   "execution_count": 83,
   "id": "376a4a52-0bb8-415f-931c-16c8ad05961d",
   "metadata": {},
   "outputs": [
    {
     "data": {
      "text/html": [
       "<div>\n",
       "<style scoped>\n",
       "    .dataframe tbody tr th:only-of-type {\n",
       "        vertical-align: middle;\n",
       "    }\n",
       "\n",
       "    .dataframe tbody tr th {\n",
       "        vertical-align: top;\n",
       "    }\n",
       "\n",
       "    .dataframe thead th {\n",
       "        text-align: right;\n",
       "    }\n",
       "</style>\n",
       "<table border=\"1\" class=\"dataframe\">\n",
       "  <thead>\n",
       "    <tr style=\"text-align: right;\">\n",
       "      <th></th>\n",
       "      <th>B</th>\n",
       "      <th>D</th>\n",
       "    </tr>\n",
       "  </thead>\n",
       "  <tbody>\n",
       "    <tr>\n",
       "      <th>2024-06-08</th>\n",
       "      <td>-1.959197</td>\n",
       "      <td>-0.915989</td>\n",
       "    </tr>\n",
       "    <tr>\n",
       "      <th>2024-06-11</th>\n",
       "      <td>0.489057</td>\n",
       "      <td>0.093398</td>\n",
       "    </tr>\n",
       "  </tbody>\n",
       "</table>\n",
       "</div>"
      ],
      "text/plain": [
       "                   B         D\n",
       "2024-06-08 -1.959197 -0.915989\n",
       "2024-06-11  0.489057  0.093398"
      ]
     },
     "execution_count": 83,
     "metadata": {},
     "output_type": "execute_result"
    }
   ],
   "source": [
    "data_frame.iloc[[1,4],[1,3]]"
   ]
  },
  {
   "cell_type": "markdown",
   "id": "871b09f8-ea90-45f4-9fa0-ce6f1f768fdf",
   "metadata": {},
   "source": [
    "For slicing rows explicitly:"
   ]
  },
  {
   "cell_type": "code",
   "execution_count": 85,
   "id": "19f74930-b1f6-4816-8edd-bd59e3e0ae60",
   "metadata": {},
   "outputs": [
    {
     "data": {
      "text/html": [
       "<div>\n",
       "<style scoped>\n",
       "    .dataframe tbody tr th:only-of-type {\n",
       "        vertical-align: middle;\n",
       "    }\n",
       "\n",
       "    .dataframe tbody tr th {\n",
       "        vertical-align: top;\n",
       "    }\n",
       "\n",
       "    .dataframe thead th {\n",
       "        text-align: right;\n",
       "    }\n",
       "</style>\n",
       "<table border=\"1\" class=\"dataframe\">\n",
       "  <thead>\n",
       "    <tr style=\"text-align: right;\">\n",
       "      <th></th>\n",
       "      <th>A</th>\n",
       "      <th>B</th>\n",
       "      <th>C</th>\n",
       "      <th>D</th>\n",
       "    </tr>\n",
       "  </thead>\n",
       "  <tbody>\n",
       "    <tr>\n",
       "      <th>2024-06-08</th>\n",
       "      <td>0.364710</td>\n",
       "      <td>-1.959197</td>\n",
       "      <td>-0.420259</td>\n",
       "      <td>-0.915989</td>\n",
       "    </tr>\n",
       "    <tr>\n",
       "      <th>2024-06-09</th>\n",
       "      <td>0.547998</td>\n",
       "      <td>-1.641096</td>\n",
       "      <td>-0.657083</td>\n",
       "      <td>0.321402</td>\n",
       "    </tr>\n",
       "  </tbody>\n",
       "</table>\n",
       "</div>"
      ],
      "text/plain": [
       "                   A         B         C         D\n",
       "2024-06-08  0.364710 -1.959197 -0.420259 -0.915989\n",
       "2024-06-09  0.547998 -1.641096 -0.657083  0.321402"
      ]
     },
     "execution_count": 85,
     "metadata": {},
     "output_type": "execute_result"
    }
   ],
   "source": [
    "data_frame.iloc[1:3,:]"
   ]
  },
  {
   "cell_type": "markdown",
   "id": "0889d76d-6f1d-4555-a002-f711b70f3672",
   "metadata": {},
   "source": [
    "For slicing columns explicitly:"
   ]
  },
  {
   "cell_type": "code",
   "execution_count": 90,
   "id": "b2a2e005-f73a-4ae2-970a-0734eb0ac6ed",
   "metadata": {},
   "outputs": [
    {
     "data": {
      "text/html": [
       "<div>\n",
       "<style scoped>\n",
       "    .dataframe tbody tr th:only-of-type {\n",
       "        vertical-align: middle;\n",
       "    }\n",
       "\n",
       "    .dataframe tbody tr th {\n",
       "        vertical-align: top;\n",
       "    }\n",
       "\n",
       "    .dataframe thead th {\n",
       "        text-align: right;\n",
       "    }\n",
       "</style>\n",
       "<table border=\"1\" class=\"dataframe\">\n",
       "  <thead>\n",
       "    <tr style=\"text-align: right;\">\n",
       "      <th></th>\n",
       "      <th>C</th>\n",
       "    </tr>\n",
       "  </thead>\n",
       "  <tbody>\n",
       "    <tr>\n",
       "      <th>2024-06-07</th>\n",
       "      <td>0.750932</td>\n",
       "    </tr>\n",
       "    <tr>\n",
       "      <th>2024-06-08</th>\n",
       "      <td>-0.420259</td>\n",
       "    </tr>\n",
       "    <tr>\n",
       "      <th>2024-06-09</th>\n",
       "      <td>-0.657083</td>\n",
       "    </tr>\n",
       "    <tr>\n",
       "      <th>2024-06-10</th>\n",
       "      <td>-0.304363</td>\n",
       "    </tr>\n",
       "    <tr>\n",
       "      <th>2024-06-11</th>\n",
       "      <td>0.218573</td>\n",
       "    </tr>\n",
       "    <tr>\n",
       "      <th>2024-06-12</th>\n",
       "      <td>1.158234</td>\n",
       "    </tr>\n",
       "    <tr>\n",
       "      <th>2024-06-13</th>\n",
       "      <td>-0.241423</td>\n",
       "    </tr>\n",
       "  </tbody>\n",
       "</table>\n",
       "</div>"
      ],
      "text/plain": [
       "                   C\n",
       "2024-06-07  0.750932\n",
       "2024-06-08 -0.420259\n",
       "2024-06-09 -0.657083\n",
       "2024-06-10 -0.304363\n",
       "2024-06-11  0.218573\n",
       "2024-06-12  1.158234\n",
       "2024-06-13 -0.241423"
      ]
     },
     "execution_count": 90,
     "metadata": {},
     "output_type": "execute_result"
    }
   ],
   "source": [
    "data_frame.iloc[:,2:3]"
   ]
  },
  {
   "cell_type": "markdown",
   "id": "220c048e-6be7-4fd3-a941-7381f694ba70",
   "metadata": {},
   "source": [
    "For getting a value explicitly:"
   ]
  },
  {
   "cell_type": "code",
   "execution_count": 98,
   "id": "22fca814-44db-44f2-b0f7-5d71b9cc9b53",
   "metadata": {},
   "outputs": [
    {
     "name": "stdout",
     "output_type": "stream",
     "text": [
      "                   A         B         C         D\n",
      "2024-06-07 -0.312672 -0.235186  0.750932 -0.987485\n",
      "2024-06-08  0.364710 -1.959197 -0.420259 -0.915989\n",
      "2024-06-09  0.547998 -1.641096 -0.657083  0.321402\n",
      "2024-06-10  0.448062  2.872498 -0.304363  0.150347\n",
      "2024-06-11 -1.454357  0.489057  0.218573  0.093398\n",
      "2024-06-12  0.651486 -1.473502  1.158234 -1.191296\n",
      "2024-06-13  1.856535  0.005446 -0.241423  0.643110\n"
     ]
    },
    {
     "data": {
      "text/plain": [
       "2.8724982450251173"
      ]
     },
     "execution_count": 98,
     "metadata": {},
     "output_type": "execute_result"
    }
   ],
   "source": [
    "print(data_frame)\n",
    "data_frame.iloc[3,1]"
   ]
  },
  {
   "cell_type": "markdown",
   "id": "23753b55-46cd-4161-b233-6ae447cc7fcb",
   "metadata": {},
   "source": [
    "orders.iloc[-3:] would select the rows starting at the 3rd to last row and up to and including the final row"
   ]
  },
  {
   "cell_type": "code",
   "execution_count": 11,
   "id": "d2576f2f-aea2-4f56-bd31-f7dde5b319f9",
   "metadata": {},
   "outputs": [
    {
     "data": {
      "text/html": [
       "<div>\n",
       "<style scoped>\n",
       "    .dataframe tbody tr th:only-of-type {\n",
       "        vertical-align: middle;\n",
       "    }\n",
       "\n",
       "    .dataframe tbody tr th {\n",
       "        vertical-align: top;\n",
       "    }\n",
       "\n",
       "    .dataframe thead th {\n",
       "        text-align: right;\n",
       "    }\n",
       "</style>\n",
       "<table border=\"1\" class=\"dataframe\">\n",
       "  <thead>\n",
       "    <tr style=\"text-align: right;\">\n",
       "      <th></th>\n",
       "      <th>A</th>\n",
       "      <th>B</th>\n",
       "      <th>C</th>\n",
       "      <th>D</th>\n",
       "    </tr>\n",
       "  </thead>\n",
       "  <tbody>\n",
       "    <tr>\n",
       "      <th>2024-06-11</th>\n",
       "      <td>0.503330</td>\n",
       "      <td>0.469158</td>\n",
       "      <td>0.243498</td>\n",
       "      <td>-0.530348</td>\n",
       "    </tr>\n",
       "    <tr>\n",
       "      <th>2024-06-12</th>\n",
       "      <td>1.184401</td>\n",
       "      <td>0.062812</td>\n",
       "      <td>-1.007449</td>\n",
       "      <td>-1.163581</td>\n",
       "    </tr>\n",
       "    <tr>\n",
       "      <th>2024-06-13</th>\n",
       "      <td>-1.069846</td>\n",
       "      <td>1.530293</td>\n",
       "      <td>-0.144316</td>\n",
       "      <td>0.653060</td>\n",
       "    </tr>\n",
       "  </tbody>\n",
       "</table>\n",
       "</div>"
      ],
      "text/plain": [
       "                   A         B         C         D\n",
       "2024-06-11  0.503330  0.469158  0.243498 -0.530348\n",
       "2024-06-12  1.184401  0.062812 -1.007449 -1.163581\n",
       "2024-06-13 -1.069846  1.530293 -0.144316  0.653060"
      ]
     },
     "execution_count": 11,
     "metadata": {},
     "output_type": "execute_result"
    }
   ],
   "source": [
    "data_frame.iloc[-3:]"
   ]
  },
  {
   "cell_type": "markdown",
   "id": "74b5a24e-808e-4044-a710-143e2bbfa39e",
   "metadata": {},
   "source": [
    "### Select Rows with Logic I\n",
    "\n",
    "You can select a subset of a DataFrame by using logical statements:\n",
    "\n",
    "df[df.MyColumnName == desired_column_value]"
   ]
  },
  {
   "cell_type": "code",
   "execution_count": 19,
   "id": "8777b7fd-26d9-4649-b762-af80fab74ff0",
   "metadata": {},
   "outputs": [
    {
     "name": "stdout",
     "output_type": "stream",
     "text": [
      "                   A         B         C         D\n",
      "2024-06-12  1.184401  0.062812 -1.007449 -1.163581\n"
     ]
    }
   ],
   "source": [
    "newvar=data_frame[data_frame.A> 0.6]\n",
    "print(newvar)"
   ]
  },
  {
   "cell_type": "markdown",
   "id": "7d07fb73-247b-4497-a360-451d4ac6a355",
   "metadata": {},
   "source": [
    "### Select Rows with Logic II\n",
    "You can also combine multiple logical statements, as long as each statement is in parentheses."
   ]
  },
  {
   "cell_type": "code",
   "execution_count": 26,
   "id": "48a0bbe3-eb8a-4611-9938-4c6bcbc97986",
   "metadata": {},
   "outputs": [
    {
     "name": "stdout",
     "output_type": "stream",
     "text": [
      "                   A         B         C         D\n",
      "2024-06-07 -0.638566 -0.328276  0.839849 -1.399170\n",
      "2024-06-08 -0.804508 -0.084281 -0.037944 -0.116029\n",
      "2024-06-10 -0.858162 -0.763235  0.368868 -1.045368\n",
      "2024-06-12  1.184401  0.062812 -1.007449 -1.163581\n"
     ]
    }
   ],
   "source": [
    "newvar=data_frame[(data_frame.A > 0.6 ) | (data_frame.B < 0.1)]\n",
    "print(newvar)\n",
    "\n"
   ]
  },
  {
   "cell_type": "code",
   "execution_count": 28,
   "id": "02a98f76-d641-4127-889d-913305708467",
   "metadata": {},
   "outputs": [
    {
     "name": "stdout",
     "output_type": "stream",
     "text": [
      "   month  clinic_east  clinic_north  clinic_south  clinic_west\n",
      "2  March           81            96            65           96\n",
      "3  April           80            80            54          180\n"
     ]
    }
   ],
   "source": [
    "df = pd.DataFrame([\n",
    "  ['January', 100, 100, 23, 100],\n",
    "  ['February', 51, 45, 145, 45],\n",
    "  ['March', 81, 96, 65, 96],\n",
    "  ['April', 80, 80, 54, 180],\n",
    "  ['May', 51, 54, 54, 154],\n",
    "  ['June', 112, 109, 79, 129]],\n",
    "  columns=['month', 'clinic_east',\n",
    "           'clinic_north', 'clinic_south',\n",
    "           'clinic_west'])\n",
    "\n",
    "march_april = df[(df.month == 'March') | (df.month == 'April')]\n",
    "\n",
    "print(march_april)"
   ]
  },
  {
   "cell_type": "markdown",
   "id": "ab504488-70fd-455b-9999-13b7d81ca12d",
   "metadata": {},
   "source": [
    "### Select Rows with Logic III\n",
    "\n",
    "Suppose we want to select tree rows"
   ]
  },
  {
   "cell_type": "code",
   "execution_count": 35,
   "id": "617332d3-1c05-4e7b-9e29-2db67fca1de8",
   "metadata": {},
   "outputs": [
    {
     "name": "stdout",
     "output_type": "stream",
     "text": [
      "      month  clinic_east  clinic_north  clinic_south  clinic_west\n",
      "0   January          100           100            23          100\n",
      "1  February           51            45           145           45\n",
      "2     March           81            96            65           96\n"
     ]
    }
   ],
   "source": [
    "df = pd.DataFrame([\n",
    "  ['January', 100, 100, 23, 100],\n",
    "  ['February', 51, 45, 145, 45],\n",
    "  ['March', 81, 96, 65, 96],\n",
    "  ['April', 80, 80, 54, 180],\n",
    "  ['May', 51, 54, 54, 154],\n",
    "  ['June', 112, 109, 79, 129]],\n",
    "  columns=['month', 'clinic_east',\n",
    "           'clinic_north', 'clinic_south',\n",
    "           'clinic_west'])\n",
    "\n",
    "january_february_march= df[df.month.isin(['January','February','March'])]\n",
    "\n",
    "print(january_february_march)"
   ]
  },
  {
   "cell_type": "markdown",
   "id": "bc3e924f-7ca2-4b1d-9756-0e2e9bd77b9a",
   "metadata": {},
   "source": [
    "### Setting indices\n",
    "\n",
    "When we select a subset of a DataFrame using logic, we end up with non-consecutive indices. This is inelegant and makes it hard to use .iloc().\n",
    "\n",
    "We can fix this using the method .reset_index(). If we use the command df.reset_index(), we get a new DataFrame with a new set of indices; the old indices have been moved into a new column called 'index'. Unless you need those values for something special, it’s probably better to use the keyword drop=True so that you don’t end up with that extra column. If we run the command df.reset_index(drop=True), we get a new DataFrame without old indexes.\n",
    "Notice that Using .reset_index() will return a new DataFrame, but we usually just want to modify our existing DataFrame. If we use the keyword inplace=True we can just modify our existing DataFrame.\n"
   ]
  },
  {
   "cell_type": "code",
   "execution_count": 39,
   "id": "eb23fbdd-b31d-41f8-bba3-2079a5fe2b17",
   "metadata": {},
   "outputs": [
    {
     "name": "stdout",
     "output_type": "stream",
     "text": [
      "      month  clinic_east  clinic_north  clinic_south  clinic_west\n",
      "1  February           51            45           145           45\n",
      "3     April           80            80            54          180\n",
      "5      June          112           109            79          129\n",
      "Note that the indices on df2 are not consecutive. Create a new DataFrame called df3 by resetting the indices on df2 (don’t use inplace or drop). Did df2 change after you ran this command?\n",
      "   index     month  clinic_east  clinic_north  clinic_south  clinic_west\n",
      "0      1  February           51            45           145           45\n",
      "1      3     April           80            80            54          180\n",
      "2      5      June          112           109            79          129\n",
      "Reset the indices of df2 by using the keyword inplace=True and drop=True. Did the indices of df2 change? How is df2 different from df3?\n",
      "None\n"
     ]
    }
   ],
   "source": [
    "df = pd.DataFrame([\n",
    "  ['January', 100, 100, 23, 100],\n",
    "  ['February', 51, 45, 145, 45],\n",
    "  ['March', 81, 96, 65, 96],\n",
    "  ['April', 80, 80, 54, 180],\n",
    "  ['May', 51, 54, 54, 154],\n",
    "  ['June', 112, 109, 79, 129]],\n",
    "  columns=['month', 'clinic_east',\n",
    "           'clinic_north', 'clinic_south',\n",
    "           'clinic_west']\n",
    ")\n",
    "\n",
    "df2 = df.loc[[1, 3, 5]]\n",
    "\n",
    "print(df2)\n",
    "print(\"Note that the indices on df2 are not consecutive. Create a new DataFrame called df3 by resetting the indices on df2 (don’t use inplace or drop). Did df2 change after you ran this command?\")\n",
    "\n",
    "df3=df2.reset_index()\n",
    "print(df3)\n",
    "print(\"Reset the indices of df2 by using the keyword inplace=True and drop=True. Did the indices of df2 change? How is df2 different from df3?\")\n",
    "df3=df2.reset_index(inplace = True, drop = True)\n",
    "\n",
    "print(df3)"
   ]
  },
  {
   "cell_type": "code",
   "execution_count": 48,
   "id": "8b60399a-368d-425e-876e-bf4f0bc72f05",
   "metadata": {},
   "outputs": [
    {
     "name": "stdout",
     "output_type": "stream",
     "text": [
      "month           March\n",
      "clinic_east        81\n",
      "clinic_north       96\n",
      "clinic_south       65\n",
      "clinic_west        96\n",
      "Name: 2, dtype: object\n"
     ]
    }
   ],
   "source": [
    "print(df.iloc[2])"
   ]
  },
  {
   "cell_type": "markdown",
   "id": "507cf217-82e5-49e7-aaa8-fcf2efb25dda",
   "metadata": {},
   "source": [
    "# Modifying DataFrames\n",
    "## Adding a Column I\n",
    "\n",
    "Sometimes, we want to add a column to an existing DataFrame. We might want to add new information or perform a calculation based on the data that we already have.\n",
    "    \n",
    "Let’s use the following code to add that information to our DataFrame.\n",
    "\n",
    "**df['Quantity'] = [100, 150, 50, 35]**"
   ]
  },
  {
   "cell_type": "code",
   "execution_count": 7,
   "id": "55a5422c-6773-47c8-8127-30717d427d8f",
   "metadata": {},
   "outputs": [
    {
     "name": "stdout",
     "output_type": "stream",
     "text": [
      "   Product ID   Description  Cost to Manufacture  Price Sold in Bulk?\n",
      "0           1  3 inch screw                  0.5   0.75           Yes\n",
      "1           2   2 inch nail                  0.1   0.25           Yes\n",
      "2           3        hammer                  3.0   5.50            No\n",
      "3           4   screwdriver                  2.5   3.00            No\n"
     ]
    }
   ],
   "source": [
    "df = pd.DataFrame([\n",
    "  [1, '3 inch screw', 0.5, 0.75],\n",
    "  [2, '2 inch nail', 0.10, 0.25],\n",
    "  [3, 'hammer', 3.00, 5.50],\n",
    "  [4, 'screwdriver', 2.50, 3.00]\n",
    "],\n",
    "  columns=['Product ID', 'Description', 'Cost to Manufacture', 'Price']\n",
    ")\n",
    "\n",
    "# Add columns here\n",
    "df['Sold in Bulk?']=['Yes','Yes','No','No']\n",
    "print(df)"
   ]
  },
  {
   "cell_type": "markdown",
   "id": "a043806b-7a8c-47c6-8cd6-e99447a38034",
   "metadata": {},
   "source": [
    "## Adding a Column II\n",
    "We can also add a new column that is the same for all rows in the DataFrame\n",
    "Suppose we know that all of our products are currently in-stock. We can add a column that says this:\n",
    "\n",
    "**df['In Stock?'] = True**"
   ]
  },
  {
   "cell_type": "code",
   "execution_count": 11,
   "id": "db29afac-94ed-4a91-8147-1854b82c18af",
   "metadata": {},
   "outputs": [
    {
     "name": "stdout",
     "output_type": "stream",
     "text": [
      "   Product ID   Description  Cost to Manufacture  Price Sold in Bulk?  \\\n",
      "0           1  3 inch screw                  0.5   0.75           Yes   \n",
      "1           2   2 inch nail                  0.1   0.25           Yes   \n",
      "2           3        hammer                  3.0   5.50            No   \n",
      "3           4   screwdriver                  2.5   3.00            No   \n",
      "\n",
      "  Is taxed?  \n",
      "0       Yes  \n",
      "1       Yes  \n",
      "2       Yes  \n",
      "3       Yes  \n"
     ]
    }
   ],
   "source": [
    "# Add columns here\n",
    "df['Is taxed?']='Yes'\n",
    "print(df)"
   ]
  },
  {
   "cell_type": "markdown",
   "id": "a1a46e44-a036-499b-94e8-b5a6c703806f",
   "metadata": {},
   "source": [
    "## Adding a Column III\n",
    "Finally, you can add a new column by performing a function on the existing columns.\n",
    "\n",
    "Maybe we want to add a column to our inventory table with the amount of sales tax that we need to charge for each item. The following code multiplies each Price by 0.075, the sales tax for our state:\n",
    "\n",
    "**df['Sales Tax'] = df.Price * 0.075**"
   ]
  },
  {
   "cell_type": "code",
   "execution_count": 13,
   "id": "9362547f-f9f4-4d18-9662-9ff0dc46c0f7",
   "metadata": {},
   "outputs": [
    {
     "name": "stdout",
     "output_type": "stream",
     "text": [
      "   Product ID   Description  Cost to Manufacture  Price Sold in Bulk?  \\\n",
      "0           1  3 inch screw                  0.5   0.75           Yes   \n",
      "1           2   2 inch nail                  0.1   0.25           Yes   \n",
      "2           3        hammer                  3.0   5.50            No   \n",
      "3           4   screwdriver                  2.5   3.00            No   \n",
      "\n",
      "  Is taxed?  Margin  \n",
      "0       Yes    0.25  \n",
      "1       Yes    0.15  \n",
      "2       Yes    2.50  \n",
      "3       Yes    0.50  \n"
     ]
    }
   ],
   "source": [
    "# Add column here\n",
    "df['Margin']=df.Price-df['Cost to Manufacture']\n",
    "print(df)"
   ]
  },
  {
   "cell_type": "markdown",
   "id": "880658ad-409a-4856-ba1a-89425a8e6d6c",
   "metadata": {},
   "source": [
    "## Performing Column Operations\n",
    "\n",
    "Often, the column that we want to add is related to existing columns, but requires a calculation more complex than multiplication or addition.\n",
    "\n",
    "We can use the apply function to apply a function to every value in a particular column. For example, this code overwrites the existing 'Name' columns by applying the function upper to every row in 'Name'.\n",
    "\n",
    "**df['Name'] = df.Name.apply(str.upper)**"
   ]
  },
  {
   "cell_type": "code",
   "execution_count": 22,
   "id": "289e75a5-8198-47b1-831f-a5fc2c82c86d",
   "metadata": {},
   "outputs": [
    {
     "name": "stdout",
     "output_type": "stream",
     "text": [
      "   Product ID   Description  Cost to Manufacture  Price Sold in Bulk?  \\\n",
      "0           1  3 inch screw                  0.5   0.75           Yes   \n",
      "1           2   2 inch nail                  0.1   0.25           Yes   \n",
      "2           3        hammer                  3.0   5.50            No   \n",
      "3           4   screwdriver                  2.5   3.00            No   \n",
      "\n",
      "  Is taxed?  Margin Lowercase Description Uppercase Description  \n",
      "0       Yes    0.25          3 inch screw          3 INCH SCREW  \n",
      "1       Yes    0.15           2 inch nail           2 INCH NAIL  \n",
      "2       Yes    2.50                hammer                HAMMER  \n",
      "3       Yes    0.50           screwdriver           SCREWDRIVER  \n"
     ]
    }
   ],
   "source": [
    "df['Uppercase Description']=df.Description.apply(str.upper)\n",
    "print(df)"
   ]
  },
  {
   "cell_type": "markdown",
   "id": "dc1835e1-ea70-41ee-a6d8-b85efb352411",
   "metadata": {},
   "source": [
    "## Reviewing Lambda Function\n",
    "\n",
    "A lambda function is a way of defining a function in a single line of code. Usually, we would assign them to a variable.\n",
    "\n",
    "For example, the following lambda function multiplies a number by 2 and then adds 3:\n",
    "\n",
    "**mylambda = lambda x: (x * 2) + 3**\n",
    "\n",
    "print(mylambda(5))\n"
   ]
  },
  {
   "cell_type": "code",
   "execution_count": null,
   "id": "b0c7c7e7-c997-4177-abb7-ad00ccfea830",
   "metadata": {},
   "outputs": [],
   "source": [
    "mylambda= lambda x : x[0]+x[-1]\n",
    "\n",
    "print(mylambda('Alejandro'))"
   ]
  },
  {
   "cell_type": "markdown",
   "id": "04e1d42c-e7e9-4a79-b34b-b9949198821b",
   "metadata": {},
   "source": [
    "### Reviewing Lambda Function: If Statements\n",
    "In general, the syntax for an if function in a lambda function is:\n",
    "\n",
    "lambda x: [OUTCOME IF TRUE] if [CONDITIONAL] else [OUTCOME IF FALSE]"
   ]
  },
  {
   "cell_type": "code",
   "execution_count": 25,
   "id": "77c61c8a-8dc8-4153-bbd9-1a326b2fb7cb",
   "metadata": {},
   "outputs": [
    {
     "name": "stdout",
     "output_type": "stream",
     "text": [
      "You must be 13 or older\n"
     ]
    }
   ],
   "source": [
    "\n",
    "mylambda= lambda x: 'Welcome to BattleCity!' if x >= 13 else 'You must be 13 or older'\n",
    "\n",
    "print(mylambda(4))"
   ]
  },
  {
   "cell_type": "markdown",
   "id": "8f42aada-405f-4580-9707-d0f2ebcb99c2",
   "metadata": {},
   "source": [
    "### Applying a Lambda to a Column\n",
    "In Pandas, we often use lambda functions to perform complex operations on columns.\n",
    "We could use the following code with a lambda function and the string method .split():\n",
    "\n",
    "df['Email Provider'] = df.Email.apply(\n",
    "    lambda x: x.split('@')[-1]\n",
    "    )\n",
    "\n",
    "\n",
    "#### For instance\n",
    "\n",
    "df = pd.read_csv('employees.csv')\n",
    "get_last_name= lambda x: x.split(' ')[-1]\n",
    "\n",
    "print(df)\n",
    "\n",
    "**df['last_name']=df.name.apply(get_last_name)**"
   ]
  },
  {
   "cell_type": "markdown",
   "id": "80e6ea91-3025-4df4-b486-db35c82ad8c1",
   "metadata": {},
   "source": [
    "## Applying a Lambda to a Row\n",
    "\n",
    "We can also operate on multiple columns at once. If we use apply without specifying a single column and add the argument axis=1, the input to our lambda function will be an entire row, not a column. To access particular values of the row, we use the syntax row.column_name or row[‘column_name’].\n",
    "\n",
    "df['Price with Tax'] = df.apply(lambda row:\n",
    "     row['Price'] * 1.075\n",
    "     if row['Is taxed?'] == 'Yes'\n",
    "     else row['Price'],\n",
    "     axis=1\n",
    ")\n",
    "\n",
    "\n",
    "## Example \n",
    "\n",
    "df = pd.read_csv('employees.csv')\n",
    "\n",
    "total_earned = lambda row: (row.hourly_wage * 40) + ((row.hourly_wage * 1.5) * (row.hours_worked - 40)) \\\n",
    "\tif row.hours_worked > 40 \\\n",
    "  else row.hourly_wage * row.hours_worked\n",
    "  \n",
    "df['total_earned'] = df.apply(total_earned, axis = 1)\n",
    "\n",
    "print(df)"
   ]
  },
  {
   "cell_type": "markdown",
   "id": "c8854ae5-8b3e-41d5-a3a8-de408e86595a",
   "metadata": {},
   "source": [
    "## Renaming Columns\n",
    "\n",
    "When we get our data from other sources, we often want to change the column names. For example, we might want all of the column names to follow variable name rules, so that we can use df.column_name (which tab-completes) rather than df['column_name'] (which takes up extra space).\n",
    "\n",
    "You can change all of the column names at once by setting the .columns property to a different list. This is great when you need to change all of the column names at once, but be careful! You can easily mislabel columns if you get the ordering wrong. Here’s an example:\n",
    "\n",
    "df = pd.DataFrame({\n",
    "    'name': ['John', 'Jane', 'Sue', 'Fred'],\n",
    "    'age': [23, 29, 21, 18]\n",
    "})\n",
    "df.columns = ['First Name', 'Age']\n",
    "\n",
    "## Renaming Columns II\n",
    "\n",
    "You also can rename individual columns by using the .rename method. Pass a dictionary like the one below to the columns keyword argument:\n",
    "\n",
    "{'old_column_name1': 'new_column_name1', 'old_column_name2': 'new_column_name2'}\n",
    "\n",
    "df = pd.DataFrame({\n",
    "    'name': ['John', 'Jane', 'Sue', 'Fred'],\n",
    "    'age': [23, 29, 21, 18]\n",
    "})\n",
    "df.rename(columns={\n",
    "    'name': 'First Name',\n",
    "    'age': 'Age'},\n",
    "    inplace=True)"
   ]
  },
  {
   "cell_type": "markdown",
   "id": "c77577be-216a-4d8f-aa2c-8a5f368a85df",
   "metadata": {},
   "source": [
    "### Some exercises \n",
    "\n",
    "import codecademylib3\n",
    "import pandas as pd\n",
    "\n",
    "orders = pd.read_csv('shoefly.csv')\n",
    "#Examine the first 5 rows of the data using print and .head().\n",
    "print(orders.head())\n",
    "\n",
    "####  Add a new column called shoe_source, which is vegan if the materials is not leather and animal otherwise.\n",
    "\n",
    "orders['shoe_source']= orders.shoe_material.apply(lambda x: 'animal' if x == 'leather'else 'vegan')\n",
    "\n",
    "#### Using the columns last_name and gender create a column called salutation which contains Dear Mr. <last_name> for men and Dear Ms. <last_name> for women.\n",
    "\n",
    "orders['salutation'] = orders.apply(lambda row: \\\n",
    "                                    'Dear Mr. ' + row['last_name']\n",
    "                                    if row['gender'] == 'male'\n",
    "                                    else 'Dear Ms. ' + row['last_name'],\n",
    "                                    axis=1)"
   ]
  },
  {
   "cell_type": "markdown",
   "id": "286d4092-d209-4021-9838-8a45009dbcfa",
   "metadata": {},
   "source": [
    ".. to be continue in \"Boolean indexing\" (https://pandas.pydata.org/docs/user_guide/10min.html#viewing-data)"
   ]
  },
  {
   "cell_type": "code",
   "execution_count": 2,
   "id": "3384e17d-cb76-4dbe-ae9f-da62e11b48e5",
   "metadata": {},
   "outputs": [
    {
     "name": "stdout",
     "output_type": "stream",
     "text": [
      "51\n"
     ]
    }
   ],
   "source": [
    "print(len(\"The Great Barrier Reef is visible from outer space.\"))"
   ]
  },
  {
   "cell_type": "code",
   "execution_count": null,
   "id": "5e8cf5c9-4fa4-4d61-8715-0ba5b50b3feb",
   "metadata": {},
   "outputs": [],
   "source": []
  }
 ],
 "metadata": {
  "kernelspec": {
   "display_name": "Python 3 (ipykernel)",
   "language": "python",
   "name": "python3"
  },
  "language_info": {
   "codemirror_mode": {
    "name": "ipython",
    "version": 3
   },
   "file_extension": ".py",
   "mimetype": "text/x-python",
   "name": "python",
   "nbconvert_exporter": "python",
   "pygments_lexer": "ipython3",
   "version": "3.11.7"
  }
 },
 "nbformat": 4,
 "nbformat_minor": 5
}
