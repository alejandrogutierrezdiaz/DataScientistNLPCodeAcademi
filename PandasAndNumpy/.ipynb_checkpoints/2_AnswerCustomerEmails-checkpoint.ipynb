{
 "cells": [
  {
   "cell_type": "markdown",
   "id": "f9769ddf-f155-4224-b164-db2de74dee35",
   "metadata": {},
   "source": [
    "# Homework: Answer Customer Emails\n",
    "\n",
    "1) import libraries"
   ]
  },
  {
   "cell_type": "code",
   "execution_count": 7,
   "id": "d9a8dbd8-62dc-470a-a9a8-b5ce97ff588c",
   "metadata": {},
   "outputs": [],
   "source": [
    "import pandas as pn\n",
    "import numpy as np"
   ]
  },
  {
   "cell_type": "markdown",
   "id": "b4a242ea-0c87-45ba-9c4f-d6125b04597e",
   "metadata": {},
   "source": [
    "2) Data for all of the locations of Petal Power is in the file inventory.csv. Load the data into a **DataFrame** called inventory."
   ]
  },
  {
   "cell_type": "code",
   "execution_count": 19,
   "id": "4288f769-597f-47ba-a093-0f021bdda440",
   "metadata": {},
   "outputs": [
    {
     "name": "stdout",
     "output_type": "stream",
     "text": [
      "   location   product_type product_description                    quantity  \\\n",
      "0         0  Staten Island               seeds                       daisy   \n",
      "1         1  Staten Island               seeds                  calla lily   \n",
      "2         2  Staten Island               seeds                      tomato   \n",
      "3         3  Staten Island        garden tools                        rake   \n",
      "4         4  Staten Island        garden tools                 wheelbarrow   \n",
      "5         5  Staten Island        garden tools                       spade   \n",
      "6         6  Staten Island        pest_control               insect killer   \n",
      "7         7  Staten Island        pest_control                 weed killer   \n",
      "8         8  Staten Island             planter  20 inch terracotta planter   \n",
      "9         9  Staten Island             planter      8 inch plastic planter   \n",
      "\n",
      "   price  Unnamed: 5  \n",
      "0      4        6.99  \n",
      "1     46       19.99  \n",
      "2     85       13.99  \n",
      "3      4       13.99  \n",
      "4      0       89.99  \n",
      "5     93       19.99  \n",
      "6     74       12.99  \n",
      "7      8       23.99  \n",
      "8      0       17.99  \n",
      "9     53        3.99  \n"
     ]
    }
   ],
   "source": [
    "inventory= pn.read_csv('inventory.csv')\n",
    "print(inventory)"
   ]
  },
  {
   "cell_type": "markdown",
   "id": "6e4ca7ed-30a1-4ae3-a3be-af4ce0568903",
   "metadata": {},
   "source": [
    "3) Inspect the first 10 rows of **inventory**."
   ]
  },
  {
   "cell_type": "code",
   "execution_count": 21,
   "id": "dc959320-5045-468c-a415-81963bc4fcd5",
   "metadata": {},
   "outputs": [
    {
     "data": {
      "text/html": [
       "<div>\n",
       "<style scoped>\n",
       "    .dataframe tbody tr th:only-of-type {\n",
       "        vertical-align: middle;\n",
       "    }\n",
       "\n",
       "    .dataframe tbody tr th {\n",
       "        vertical-align: top;\n",
       "    }\n",
       "\n",
       "    .dataframe thead th {\n",
       "        text-align: right;\n",
       "    }\n",
       "</style>\n",
       "<table border=\"1\" class=\"dataframe\">\n",
       "  <thead>\n",
       "    <tr style=\"text-align: right;\">\n",
       "      <th></th>\n",
       "      <th>location</th>\n",
       "      <th>product_type</th>\n",
       "      <th>product_description</th>\n",
       "      <th>quantity</th>\n",
       "      <th>price</th>\n",
       "      <th>Unnamed: 5</th>\n",
       "    </tr>\n",
       "  </thead>\n",
       "  <tbody>\n",
       "    <tr>\n",
       "      <th>0</th>\n",
       "      <td>0</td>\n",
       "      <td>Staten Island</td>\n",
       "      <td>seeds</td>\n",
       "      <td>daisy</td>\n",
       "      <td>4</td>\n",
       "      <td>6.99</td>\n",
       "    </tr>\n",
       "    <tr>\n",
       "      <th>1</th>\n",
       "      <td>1</td>\n",
       "      <td>Staten Island</td>\n",
       "      <td>seeds</td>\n",
       "      <td>calla lily</td>\n",
       "      <td>46</td>\n",
       "      <td>19.99</td>\n",
       "    </tr>\n",
       "    <tr>\n",
       "      <th>2</th>\n",
       "      <td>2</td>\n",
       "      <td>Staten Island</td>\n",
       "      <td>seeds</td>\n",
       "      <td>tomato</td>\n",
       "      <td>85</td>\n",
       "      <td>13.99</td>\n",
       "    </tr>\n",
       "    <tr>\n",
       "      <th>3</th>\n",
       "      <td>3</td>\n",
       "      <td>Staten Island</td>\n",
       "      <td>garden tools</td>\n",
       "      <td>rake</td>\n",
       "      <td>4</td>\n",
       "      <td>13.99</td>\n",
       "    </tr>\n",
       "    <tr>\n",
       "      <th>4</th>\n",
       "      <td>4</td>\n",
       "      <td>Staten Island</td>\n",
       "      <td>garden tools</td>\n",
       "      <td>wheelbarrow</td>\n",
       "      <td>0</td>\n",
       "      <td>89.99</td>\n",
       "    </tr>\n",
       "    <tr>\n",
       "      <th>5</th>\n",
       "      <td>5</td>\n",
       "      <td>Staten Island</td>\n",
       "      <td>garden tools</td>\n",
       "      <td>spade</td>\n",
       "      <td>93</td>\n",
       "      <td>19.99</td>\n",
       "    </tr>\n",
       "    <tr>\n",
       "      <th>6</th>\n",
       "      <td>6</td>\n",
       "      <td>Staten Island</td>\n",
       "      <td>pest_control</td>\n",
       "      <td>insect killer</td>\n",
       "      <td>74</td>\n",
       "      <td>12.99</td>\n",
       "    </tr>\n",
       "    <tr>\n",
       "      <th>7</th>\n",
       "      <td>7</td>\n",
       "      <td>Staten Island</td>\n",
       "      <td>pest_control</td>\n",
       "      <td>weed killer</td>\n",
       "      <td>8</td>\n",
       "      <td>23.99</td>\n",
       "    </tr>\n",
       "    <tr>\n",
       "      <th>8</th>\n",
       "      <td>8</td>\n",
       "      <td>Staten Island</td>\n",
       "      <td>planter</td>\n",
       "      <td>20 inch terracotta planter</td>\n",
       "      <td>0</td>\n",
       "      <td>17.99</td>\n",
       "    </tr>\n",
       "    <tr>\n",
       "      <th>9</th>\n",
       "      <td>9</td>\n",
       "      <td>Staten Island</td>\n",
       "      <td>planter</td>\n",
       "      <td>8 inch plastic planter</td>\n",
       "      <td>53</td>\n",
       "      <td>3.99</td>\n",
       "    </tr>\n",
       "  </tbody>\n",
       "</table>\n",
       "</div>"
      ],
      "text/plain": [
       "   location   product_type product_description                    quantity  \\\n",
       "0         0  Staten Island               seeds                       daisy   \n",
       "1         1  Staten Island               seeds                  calla lily   \n",
       "2         2  Staten Island               seeds                      tomato   \n",
       "3         3  Staten Island        garden tools                        rake   \n",
       "4         4  Staten Island        garden tools                 wheelbarrow   \n",
       "5         5  Staten Island        garden tools                       spade   \n",
       "6         6  Staten Island        pest_control               insect killer   \n",
       "7         7  Staten Island        pest_control                 weed killer   \n",
       "8         8  Staten Island             planter  20 inch terracotta planter   \n",
       "9         9  Staten Island             planter      8 inch plastic planter   \n",
       "\n",
       "   price  Unnamed: 5  \n",
       "0      4        6.99  \n",
       "1     46       19.99  \n",
       "2     85       13.99  \n",
       "3      4       13.99  \n",
       "4      0       89.99  \n",
       "5     93       19.99  \n",
       "6     74       12.99  \n",
       "7      8       23.99  \n",
       "8      0       17.99  \n",
       "9     53        3.99  "
      ]
     },
     "execution_count": 21,
     "metadata": {},
     "output_type": "execute_result"
    }
   ],
   "source": [
    "inventory.tail(10)"
   ]
  },
  {
   "cell_type": "markdown",
   "id": "00794d3f-4d91-486d-9c06-ca5300fbbc8b",
   "metadata": {},
   "source": [
    "4) The first 10 rows represent data from your Staten Island location. Select these rows and save them to **staten_island**."
   ]
  },
  {
   "cell_type": "code",
   "execution_count": 23,
   "id": "efe9dbdd-c0a6-4946-b573-68ced78de32f",
   "metadata": {},
   "outputs": [],
   "source": [
    "staten_island=inventory.tail(10)"
   ]
  },
  {
   "cell_type": "markdown",
   "id": "d2823d8b-53c2-4074-979f-e0c568fc21b5",
   "metadata": {},
   "source": [
    "5) A customer just emailed you asking what products are sold at your Staten Island location. Select the column **product_description** from **staten_island** and save it to the variable **product_request**"
   ]
  },
  {
   "cell_type": "code",
   "execution_count": 25,
   "id": "c2828513-56b2-489d-a4d0-4abfd8132810",
   "metadata": {},
   "outputs": [
    {
     "name": "stdout",
     "output_type": "stream",
     "text": [
      "0           seeds\n",
      "1           seeds\n",
      "2           seeds\n",
      "3    garden tools\n",
      "4    garden tools\n",
      "5    garden tools\n",
      "6    pest_control\n",
      "7    pest_control\n",
      "8         planter\n",
      "9         planter\n",
      "Name: product_description, dtype: object\n"
     ]
    }
   ],
   "source": [
    "product_request=staten_island.product_description\n",
    "print(product_request)"
   ]
  },
  {
   "cell_type": "markdown",
   "id": "f4ee440b-72f2-4658-9d42-392528cd3b8c",
   "metadata": {},
   "source": [
    "6) Another customer emails to ask what types of seeds are sold at the Brooklyn location.\n",
    "\n",
    "Select all rows where **location** is equal to **Brooklyn** and **product_type** is equal to seeds and save them to the variable **seed_request**.\n"
   ]
  },
  {
   "cell_type": "code",
   "execution_count": 27,
   "id": "86e8a471-2a46-4b66-81d8-65b24821e2a9",
   "metadata": {},
   "outputs": [],
   "source": [
    "seed_request= inventory[(inventory.location=='Brooklyn') & (inventory.product_type=='seeds')]\n"
   ]
  },
  {
   "cell_type": "markdown",
   "id": "f6b08ca1-f518-45b7-9403-fdc3b2491c1a",
   "metadata": {},
   "source": [
    "7) Add a column to **inventory** called **in_stock** which is True if **quantity** is greater than 0 and False if quantity equals 0.\n",
    "\n"
   ]
  },
  {
   "cell_type": "code",
   "execution_count": 35,
   "id": "61d5f33d-29fa-41f3-b03f-0db794143969",
   "metadata": {},
   "outputs": [],
   "source": [
    "inventory['in_stock']= inventory.apply(lambda row: True if row.price < 0 else False, axis = 1)"
   ]
  },
  {
   "cell_type": "code",
   "execution_count": 37,
   "id": "9ea0051a-7dd9-4efa-ab26-4cc6af50ecd9",
   "metadata": {},
   "outputs": [
    {
     "name": "stdout",
     "output_type": "stream",
     "text": [
      "   location   product_type product_description                    quantity  \\\n",
      "0         0  Staten Island               seeds                       daisy   \n",
      "1         1  Staten Island               seeds                  calla lily   \n",
      "2         2  Staten Island               seeds                      tomato   \n",
      "3         3  Staten Island        garden tools                        rake   \n",
      "4         4  Staten Island        garden tools                 wheelbarrow   \n",
      "5         5  Staten Island        garden tools                       spade   \n",
      "6         6  Staten Island        pest_control               insect killer   \n",
      "7         7  Staten Island        pest_control                 weed killer   \n",
      "8         8  Staten Island             planter  20 inch terracotta planter   \n",
      "9         9  Staten Island             planter      8 inch plastic planter   \n",
      "\n",
      "   price  Unnamed: 5  in_stock  \n",
      "0      4        6.99     False  \n",
      "1     46       19.99     False  \n",
      "2     85       13.99     False  \n",
      "3      4       13.99     False  \n",
      "4      0       89.99     False  \n",
      "5     93       19.99     False  \n",
      "6     74       12.99     False  \n",
      "7      8       23.99     False  \n",
      "8      0       17.99     False  \n",
      "9     53        3.99     False  \n"
     ]
    }
   ],
   "source": [
    "print(inventory)"
   ]
  },
  {
   "cell_type": "markdown",
   "id": "a730a68e-6a5d-44d4-93fb-ce7293a11844",
   "metadata": {},
   "source": [
    "8) Create a column called total_value that is equal to price multiplied by quantity."
   ]
  },
  {
   "cell_type": "code",
   "execution_count": 42,
   "id": "202361d4-2dd1-437e-85b2-3ae82fe25748",
   "metadata": {},
   "outputs": [
    {
     "name": "stdout",
     "output_type": "stream",
     "text": [
      "   location   product_type product_description     quantity  price  \\\n",
      "0         0  Staten Island               seeds        daisy      4   \n",
      "1         1  Staten Island               seeds   calla lily     46   \n",
      "2         2  Staten Island               seeds       tomato     85   \n",
      "3         3  Staten Island        garden tools         rake      4   \n",
      "4         4  Staten Island        garden tools  wheelbarrow      0   \n",
      "\n",
      "   Unnamed: 5  in_stock                                        total_value  \n",
      "0        6.99     False                               daisydaisydaisydaisy  \n",
      "1       19.99     False  calla lilycalla lilycalla lilycalla lilycalla ...  \n",
      "2       13.99     False  tomatotomatotomatotomatotomatotomatotomatotoma...  \n",
      "3       13.99     False                                   rakerakerakerake  \n",
      "4       89.99     False                                                     \n"
     ]
    }
   ],
   "source": [
    "inventory['total_value'] = inventory.apply( lambda row: row.price * row.quantity, axis=1)\n",
    "\n",
    "print(inventory.head())"
   ]
  },
  {
   "cell_type": "markdown",
   "id": "73e426ab-efac-446d-baf9-beaeeb48b736",
   "metadata": {},
   "source": [
    "9) The following **lambda** function combines product_type **and** product_description into a single string:\n"
   ]
  },
  {
   "cell_type": "code",
   "execution_count": 45,
   "id": "b3f2f7ae-3631-4002-a047-8fa6e9269970",
   "metadata": {},
   "outputs": [],
   "source": [
    "combina_lambda = lambda row: \\\n",
    "  '{} - {}'.format(row.product_type, row.product_description)"
   ]
  },
  {
   "cell_type": "markdown",
   "id": "9353d943-b57d-43f3-b94d-a81f9f2b7b1a",
   "metadata": {},
   "source": [
    "10) Using combine_lambda, create a new column in inventory called full_description that has the complete description of each product."
   ]
  },
  {
   "cell_type": "code",
   "execution_count": 50,
   "id": "03b7b3db-9c23-47db-8fa7-becfc1c6800d",
   "metadata": {},
   "outputs": [
    {
     "name": "stdout",
     "output_type": "stream",
     "text": [
      "   location   product_type product_description     quantity  price  \\\n",
      "0         0  Staten Island               seeds        daisy      4   \n",
      "1         1  Staten Island               seeds   calla lily     46   \n",
      "2         2  Staten Island               seeds       tomato     85   \n",
      "3         3  Staten Island        garden tools         rake      4   \n",
      "4         4  Staten Island        garden tools  wheelbarrow      0   \n",
      "\n",
      "   Unnamed: 5  in_stock                                        total_value  \\\n",
      "0        6.99     False                               daisydaisydaisydaisy   \n",
      "1       19.99     False  calla lilycalla lilycalla lilycalla lilycalla ...   \n",
      "2       13.99     False  tomatotomatotomatotomatotomatotomatotomatotoma...   \n",
      "3       13.99     False                                   rakerakerakerake   \n",
      "4       89.99     False                                                      \n",
      "\n",
      "               full_description  \n",
      "0         Staten Island - seeds  \n",
      "1         Staten Island - seeds  \n",
      "2         Staten Island - seeds  \n",
      "3  Staten Island - garden tools  \n",
      "4  Staten Island - garden tools  \n"
     ]
    }
   ],
   "source": [
    "inventory['full_description']=inventory.apply(combina_lambda, axis =1 )\n",
    "print(inventory.head())"
   ]
  },
  {
   "cell_type": "code",
   "execution_count": null,
   "id": "7e558c9a-132e-41e4-b383-1f09d12efeec",
   "metadata": {},
   "outputs": [],
   "source": []
  }
 ],
 "metadata": {
  "kernelspec": {
   "display_name": "Python 3 (ipykernel)",
   "language": "python",
   "name": "python3"
  },
  "language_info": {
   "codemirror_mode": {
    "name": "ipython",
    "version": 3
   },
   "file_extension": ".py",
   "mimetype": "text/x-python",
   "name": "python",
   "nbconvert_exporter": "python",
   "pygments_lexer": "ipython3",
   "version": "3.11.7"
  }
 },
 "nbformat": 4,
 "nbformat_minor": 5
}
