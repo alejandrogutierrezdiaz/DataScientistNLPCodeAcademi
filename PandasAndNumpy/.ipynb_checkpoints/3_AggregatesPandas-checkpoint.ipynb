{
 "cells": [
  {
   "cell_type": "markdown",
   "id": "ddd2b0be-54bb-4046-b175-e14905734a2b",
   "metadata": {},
   "source": [
    "# Aggregates in Pandas\n",
    "\n",
    "**Note**: These notes are a summary of notes taken from www.codecademy.com, not my production \n",
    "\n",
    "An aggregate statistic is a way of creating a single number that describes a group of numbers. Common aggregate statistics include mean, median, and standard deviation. Aggregate functions summarize many data points (i.e., a column of a dataframe) into a smaller set of values.\n",
    "\n",
    "The general syntax for these calculations is:\n",
    "\n",
    "**df.column_name.command()**\n",
    "\n",
    "The following table summarizes some common commands:"
   ]
  },
  {
   "cell_type": "code",
   "execution_count": 15,
   "id": "3a379d34-ab9d-4bd0-a806-02138ab9c6f3",
   "metadata": {},
   "outputs": [
    {
     "name": "stdout",
     "output_type": "stream",
     "text": [
      "   Command                        Description\n",
      "0     mean    Average of all values in column\n",
      "1      std                 Standard deviation\n",
      "2   median                             Median\n",
      "3      max            Maximum value in column\n",
      "4      min            Minimum value in column\n",
      "5    count         Number of values in column\n",
      "6  nunique  Number of unique values in column\n",
      "7   unique    List of unique values in column\n"
     ]
    }
   ],
   "source": [
    "import pandas as pn\n",
    "import numpy as np\n",
    "\n",
    "common_comands= pn.read_csv('common_commands.csv')\n",
    "\n",
    "print(common_comands)\n"
   ]
  },
  {
   "cell_type": "markdown",
   "id": "3754fb7e-5c69-4df6-8ee2-ada3299f4646",
   "metadata": {},
   "source": [
    "**Below are some examples of use**"
   ]
  },
  {
   "cell_type": "code",
   "execution_count": 22,
   "id": "4c6af788-3bec-4a86-a667-570d1ccdb746",
   "metadata": {},
   "outputs": [
    {
     "name": "stdout",
     "output_type": "stream",
     "text": [
      "      id first_name    last_name                         email     shoe_type  \\\n",
      "0  41874       Kyle         Peck          KylePeck71@gmail.com  ballet flats   \n",
      "1  31349  Elizabeth    Velazquez      EVelazquez1971@gmail.com         boots   \n",
      "2  43416      Keith     Saunders              KS4047@gmail.com       sandals   \n",
      "3  56054       Ryan      Sweeney     RyanSweeney14@outlook.com       sandals   \n",
      "4  77402      Donna  Blankenship              DB3807@gmail.com     stilettos   \n",
      "5  97148     Albert       Dillon       Albert.Dillon@gmail.com        wedges   \n",
      "6  19998     Judith       Hewitt      JudithHewitt98@gmail.com     stilettos   \n",
      "7  83290      Kayla       Hardin        Kayla.Hardin@gmail.com     stilettos   \n",
      "8  77867     Steven  Blankenship  Steven.Blankenship@gmail.com        wedges   \n",
      "9  54885      Carol   Mclaughlin              CM3415@gmail.com  ballet flats   \n",
      "\n",
      "  shoe_material shoe_color  price  \n",
      "0  faux-leather      black  385.0  \n",
      "1        fabric      brown  388.0  \n",
      "2       leather       navy  346.0  \n",
      "3        fabric      brown  344.0  \n",
      "4        fabric      brown  289.0  \n",
      "5        fabric      brown  266.0  \n",
      "6       leather      black  395.0  \n",
      "7       leather      white  241.0  \n",
      "8       leather       navy  266.0  \n",
      "9  faux-leather      brown  440.0  \n"
     ]
    }
   ],
   "source": [
    "orders=pn.read_csv('orders.csv')\n",
    "\n",
    "print(orders.head(10))\n",
    "\n",
    "most_expensive= orders.price.max();\n",
    "\n",
    "num_colors=orders.shoe_color.nunique();\n"
   ]
  },
  {
   "cell_type": "markdown",
   "id": "02746b00-daa2-46fe-bc22-f9f6b2125d30",
   "metadata": {},
   "source": [
    "## Calculating Aggregate Functions I\n",
    "\n",
    "When we have a bunch of data, we often want to calculate aggregate statistics (mean, standard deviation, median, percentiles, etc.) over certain subsets of the data\n",
    "\n",
    "In general, we use the following syntax to calculate aggregates:\n",
    "\n",
    "**df.groupby('column1').column2.measurement()**\n",
    "\n",
    "where:\n",
    "\n",
    "    **column1** is the column that we want to group by ('student' in our example)\n",
    "    **column2** is the column that we want to perform a measurement on (grade in our example)\n",
    "    **measurement** is the measurement function we want to apply (mean in our example)\n",
    "\n",
    "URL of reference https://pandas.pydata.org/pandas-docs/stable/reference/api/pandas.DataFrame.groupby.html#pandas.DataFrame.groupby\n",
    "\n"
   ]
  },
  {
   "cell_type": "markdown",
   "id": "f26b8ba4-4db6-4d34-83e2-4daff01abf02",
   "metadata": {},
   "source": [
    "Below are some examples using **orders.csv**\n",
    "\n",
    "1) Now, they want to know the most expensive shoe for each shoe_type (i.e., the most expensive boot, the most expensive ballet flat, etc.)."
   ]
  },
  {
   "cell_type": "code",
   "execution_count": 30,
   "id": "a1b7fe20-9c57-4385-a02c-30dd26f4129b",
   "metadata": {},
   "outputs": [
    {
     "name": "stdout",
     "output_type": "stream",
     "text": [
      "shoe_type\n",
      "ballet flats    481.0\n",
      "boots           478.0\n",
      "clogs           493.0\n",
      "sandals         456.0\n",
      "stilettos       487.0\n",
      "wedges          461.0\n",
      "Name: price, dtype: float64\n"
     ]
    }
   ],
   "source": [
    "pricey_shoes=  orders.groupby('shoe_type').price.max()\n",
    "print(pricey_shoes)"
   ]
  },
  {
   "cell_type": "code",
   "execution_count": 32,
   "id": "0b993bc5-863b-438d-a3ec-ec157a4d71fd",
   "metadata": {},
   "outputs": [
    {
     "name": "stdout",
     "output_type": "stream",
     "text": [
      "<class 'pandas.core.series.Series'>\n"
     ]
    }
   ],
   "source": [
    "print(type(pricey_shoes))"
   ]
  },
  {
   "cell_type": "markdown",
   "id": "7cb7b8c9-166d-435b-8e00-67cae4541442",
   "metadata": {},
   "source": [
    "### After using groupby, we often need to clean our resulting data.\n",
    "\n",
    "As we saw in the previous exercise, the groupby function creates a new Series, not a DataFrame. For our ShoeFly.com example, the indices of the Series were different values of shoe_type, and the name property was price.\n",
    "\n",
    "Usually, we’d prefer that those indices were actually a column. In order to get that, we can use reset_index(). This will transform our Series into a DataFrame and move the indices into their own column.\n",
    "\n",
    "Generally, you’ll always see a groupby statement followed by reset_index:\n",
    "\n",
    "**df.groupby('column1').column2.measurement()\n",
    "    .reset_index()**\n",
    "\n",
    "When we use groupby, we often want to rename the column we get as a result\n",
    "\n",
    "**Below some examples**\n",
    "\n",
    "Modify your code from the previous exercise so that it ends with reset_index, which will change pricey_shoes into a DataFrame."
   ]
  },
  {
   "cell_type": "code",
   "execution_count": 36,
   "id": "4ec658de-bc5a-418e-ba45-134acf5e67c1",
   "metadata": {},
   "outputs": [
    {
     "name": "stdout",
     "output_type": "stream",
     "text": [
      "      shoe_type  price\n",
      "0  ballet flats  481.0\n",
      "1         boots  478.0\n",
      "2         clogs  493.0\n",
      "3       sandals  456.0\n",
      "4     stilettos  487.0\n",
      "5        wedges  461.0\n"
     ]
    }
   ],
   "source": [
    "pricey_shoes = orders.groupby('shoe_type').price.max().reset_index()\n",
    "\n",
    "print(pricey_shoes)"
   ]
  },
  {
   "cell_type": "markdown",
   "id": "34bc57be-7cdd-4389-ba07-7dd50e565150",
   "metadata": {},
   "source": [
    "Now, what type of object is pricey_shoes?"
   ]
  },
  {
   "cell_type": "code",
   "execution_count": 38,
   "id": "635a5f6b-8541-4dcd-a36b-9af889a93ab3",
   "metadata": {},
   "outputs": [
    {
     "name": "stdout",
     "output_type": "stream",
     "text": [
      "<class 'pandas.core.frame.DataFrame'>\n"
     ]
    }
   ],
   "source": [
    "print(type(pricey_shoes))"
   ]
  },
  {
   "cell_type": "markdown",
   "id": "9ba14341-e6a7-4012-85cf-5fcb11f47a17",
   "metadata": {},
   "source": [
    "## methods and lambdas functions\n",
    "\n",
    "Sometimes, the operation that you want to perform is more complicated than mean or count. In those cases, you can use the apply method and lambda functions, just like we did for individual column operations. Note that the input to our lambda function will always be a list of values.\n",
    "\n",
    "A great example of this is calculating percentiles.\n",
    "\n",
    "**Below some examples of lambdas functions use**\n",
    "\n",
    "Let’s calculate the 25th percentile for shoe price for each shoe_color to help Marketing decide if we have enough cheap shoes on sale. Save the data to the variable cheap_shoes.\n",
    "\n",
    "Note: Be sure to use reset_index() at the end of your query so that cheap_shoes is a DataFrame."
   ]
  },
  {
   "cell_type": "code",
   "execution_count": 49,
   "id": "89e8e1ac-1632-4b52-beba-c36efe4c6e41",
   "metadata": {},
   "outputs": [
    {
     "name": "stdout",
     "output_type": "stream",
     "text": [
      "  shoe_color  price\n",
      "0      black    NaN\n",
      "1      brown  193.5\n",
      "2       navy  205.5\n",
      "3        red  250.0\n",
      "4      white  196.0\n"
     ]
    }
   ],
   "source": [
    "cheap_shoes=orders.groupby('shoe_color').price.apply(lambda x: np.percentile(x,25)).reset_index()\n",
    "print(cheap_shoes)"
   ]
  },
  {
   "cell_type": "code",
   "execution_count": 47,
   "id": "19236e08-3714-4026-ae06-b6cecb925cdd",
   "metadata": {},
   "outputs": [
    {
     "name": "stdout",
     "output_type": "stream",
     "text": [
      "<class 'pandas.core.frame.DataFrame'>\n"
     ]
    }
   ],
   "source": [
    "print(type(cheap_shoes))"
   ]
  },
  {
   "cell_type": "markdown",
   "id": "0605aab6-44c1-49c8-9609-526bea4d0755",
   "metadata": {},
   "source": [
    "## group by more than one column\n",
    "\n",
    "Sometimes, we want to group by more than one column. We can easily do this by passing a list of column names into the groupby method.\n",
    "\n",
    "**Below some examples:** \n",
    "\n",
    "Create a DataFrame with the total number of shoes of each shoe_type/shoe_color combination purchased. Save it to the variable shoe_counts.\n",
    "\n",
    "You should be able to do this using groupby and count().\n",
    "\n",
    "Note: When we’re using count(), it doesn’t really matter which column we perform the calculation on. You should use id in this example, but we would get the same answer if we used shoe_type or last_name."
   ]
  },
  {
   "cell_type": "code",
   "execution_count": 52,
   "id": "6886676a-a858-433d-85de-28b9e2ab8e9d",
   "metadata": {},
   "outputs": [
    {
     "name": "stdout",
     "output_type": "stream",
     "text": [
      "       shoe_type shoe_color  id\n",
      "0   ballet flats      black   2\n",
      "1   ballet flats      brown   5\n",
      "2   ballet flats        red   3\n",
      "3   ballet flats      white   5\n",
      "4          boots      black   3\n",
      "5          boots      brown   5\n",
      "6          boots       navy   6\n",
      "7          boots        red   2\n",
      "8          boots      white   3\n",
      "9          clogs      black   4\n",
      "10         clogs      brown   6\n",
      "11         clogs       navy   1\n",
      "12         clogs        red   4\n",
      "13         clogs      white   1\n",
      "14       sandals      black   1\n",
      "15       sandals      brown   4\n",
      "16       sandals       navy   5\n",
      "17       sandals        red   3\n",
      "18       sandals      white   4\n",
      "19     stilettos      black   5\n",
      "20     stilettos      brown   3\n",
      "21     stilettos       navy   2\n",
      "22     stilettos        red   2\n",
      "23     stilettos      white   2\n",
      "24        wedges      black   3\n",
      "25        wedges      brown   4\n",
      "26        wedges       navy   4\n",
      "27        wedges        red   5\n",
      "28        wedges      white   2\n"
     ]
    }
   ],
   "source": [
    "shoe_counts= orders.groupby(['shoe_type','shoe_color']).id.count().reset_index()\n",
    "print(shoe_counts)"
   ]
  },
  {
   "cell_type": "markdown",
   "id": "144fc4b8-f1b0-41b8-834f-c92dbb4d2f7f",
   "metadata": {},
   "source": [
    "## Pivot Tables\n",
    "\n",
    "When we perform a groupby across multiple columns, we often want to change how our data is stored. For instance, recall the example where we are running a chain of stores and have data about the number of sales at different locations on different days:\n",
    "\n",
    "In Pandas, the command for pivot is:\n",
    "\n",
    "**df.pivot(columns='ColumnToPivot',\n",
    "         index='ColumnToBeRows',\n",
    "         values='ColumnToBeValues')**\n",
    "\n",
    "Just like with groupby, the output of a pivot command is a new DataFrame, but the indexing tends to be “weird”, so we usually follow up with .reset_index().\n",
    "\n",
    "**Below some examples**\n"
   ]
  },
  {
   "cell_type": "code",
   "execution_count": 56,
   "id": "7ef36cc3-de08-4a45-a5c1-52c7c3c073f7",
   "metadata": {},
   "outputs": [
    {
     "name": "stdout",
     "output_type": "stream",
     "text": [
      "shoe_color     shoe_type  black  brown  navy  red  white\n",
      "0           ballet flats    2.0    5.0   NaN  3.0    5.0\n",
      "1                  boots    3.0    5.0   6.0  2.0    3.0\n",
      "2                  clogs    4.0    6.0   1.0  4.0    1.0\n",
      "3                sandals    1.0    4.0   5.0  3.0    4.0\n",
      "4              stilettos    5.0    3.0   2.0  2.0    2.0\n",
      "5                 wedges    3.0    4.0   4.0  5.0    2.0\n"
     ]
    }
   ],
   "source": [
    "shoe_counts_pivot=shoe_counts.pivot(columns='shoe_color',\n",
    "index='shoe_type',\n",
    "values='id').reset_index()\n",
    "\n",
    "print(shoe_counts_pivot)"
   ]
  },
  {
   "cell_type": "code",
   "execution_count": null,
   "id": "64e829d5-c086-4805-a29e-54d2c69f03ca",
   "metadata": {},
   "outputs": [],
   "source": []
  }
 ],
 "metadata": {
  "kernelspec": {
   "display_name": "Python 3 (ipykernel)",
   "language": "python",
   "name": "python3"
  },
  "language_info": {
   "codemirror_mode": {
    "name": "ipython",
    "version": 3
   },
   "file_extension": ".py",
   "mimetype": "text/x-python",
   "name": "python",
   "nbconvert_exporter": "python",
   "pygments_lexer": "ipython3",
   "version": "3.11.7"
  }
 },
 "nbformat": 4,
 "nbformat_minor": 5
}
