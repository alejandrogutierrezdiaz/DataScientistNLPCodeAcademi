{
 "cells": [
  {
   "cell_type": "markdown",
   "id": "ea14109e-6ba6-4d37-9077-0324cd2fd0b6",
   "metadata": {},
   "source": [
    "# String Methods"
   ]
  },
  {
   "cell_type": "markdown",
   "id": "00401ab3-6cb9-470a-9a5f-79b58d06da76",
   "metadata": {},
   "source": [
    "+ .lower() returns the string with all lowercase characters.\n",
    "\n",
    "+ .upper() returns the string with all uppercase characters.\n",
    "\n",
    "+ .title() returns the string in title case, which means the first letter of each word is capitalized.\n",
    "+ .split() is performed on a string, takes one argument, and returns a list of substrings found between the given argument (which in the case of .split() is known as the delimiter). The following syntax should be used: string_name.split(delimiter)\n",
    "If you do not provide an argument for .split() it will default to splitting at spaces.\n",
    "\n",
    ".split() returned a list with each word in the string. Important to note: if we run .split() on a string with no spaces, we will get a single element array containing the same string. \n",
    "\n",
    "+ .join() is essentially the opposite of .split(), it joins a list of strings together with a given delimiter. The syntax of .join() is: \n",
    "'delimiter'.join(list_you_want_to_join)\n",
    "Now this may seem a little weird, because with .split() the argument was the delimiter, but now the argument is the list. This is because join is still a string method, which means it has to act on a string. The string .join() acts on is the delimiter you want to join with, therefore the list you want to join has to be the argument.\n",
    "my_munequita = ['My', 'Spanish', 'Harlem', 'Mona', 'Lisa']\n",
    "print(' '.join(my_munequita))\n",
    "\n",
    "+ .strip() Stripping a string removes all whitespace characters from the beginning and end. Consider the following example:\n",
    "featuring = \"           rob thomas                 \"\n",
    "print(featuring.strip())\n",
    "# => 'rob thomas'\n",
    "All the whitespace on either side of the string has been stripped, but the whitespace in the middle has been preserved.\n",
    "You can also use .strip() with a character argument, which will strip that character from either end of the string.\n",
    "featuring = \"!!!rob thomas       !!!!!\"\n",
    "print(featuring.strip('!'))\n",
    "# => 'rob thomas       '\n",
    "\n",
    "\n",
    "+ .replace(). Replace takes two arguments and replaces all instances of the first argument in a string with the second argument. The syntax is as follows\n",
    "string_name.replace(substring_being_replaced, new_substring)\n",
    "Great! Let’s put it in context and look at an example.\n",
    "with_spaces = \"You got the kind of loving that can be so smooth\"\n",
    "with_underscores = with_spaces.replace(' ', '_')\n",
    "print(with_underscores)\n",
    "# 'You_got_the_kind_of_loving_that_can_be_so_smooth'\n",
    "\n",
    ".find() takes a string as an argument and searching the string it was run on for that string. It then returns the first index value where that string is located.\n",
    "print('smooth'.find('t'))\n",
    "# => '4'\n",
    ".format() takes variables as an argument and includes them in the string that it is run on. You include {} marks as placeholders for where those variables will be imported.\n",
    "Consider the following function:\n",
    "def favorite_song_statement(song, artist):\n",
    "  return \"My favorite song is {} by {}.\".format(song, artist)\n",
    ".format() can be made even more legible for other people reading your code by including keywords. Previously, with .format(), you had to make sure that your variables appeared as arguments in the same order that you wanted them to appear in the string, which added unnecessary complications when writing code.\n",
    "By including keywords in the string, and in the arguments, you can remove that ambiguity. Let’s look at an example.\n",
    "def favorite_song_statement(song, artist):\n",
    "  return \"My favorite song is {song} by {artist}.\".format(song=song, artist=artist)\n"
   ]
  },
  {
   "cell_type": "code",
   "execution_count": 3,
   "id": "1ae71bc1-f705-4d79-b630-f38fc9e92385",
   "metadata": {},
   "outputs": [
    {
     "name": "stdout",
     "output_type": "stream",
     "text": [
      "Afterimages:Audre Lorde:1997,  The Shadow:William Carlos Williams:1915, Ecstasy:Gabriela Mistral:1925,   Georgia Dusk:Jean Toomer:1923,   Parting Before Daybreak:An Qi:2014, The Untold Want:Walt Whitman:1871, Mr. Grumpledump's Song:Shel Silverstein:2004, Angel Sound Mexico City:Carmen Boullosa:2013, In Love:Kamala Suraiyya:1965, Dream Variations:Langston Hughes:1994, Dreamwood:Adrienne Rich:1987\n",
      "['Afterimages:Audre Lorde:1997', '  The Shadow:William Carlos Williams:1915', ' Ecstasy:Gabriela Mistral:1925', '   Georgia Dusk:Jean Toomer:1923', '   Parting Before Daybreak:An Qi:2014', ' The Untold Want:Walt Whitman:1871', \" Mr. Grumpledump's Song:Shel Silverstein:2004\", ' Angel Sound Mexico City:Carmen Boullosa:2013', ' In Love:Kamala Suraiyya:1965', ' Dream Variations:Langston Hughes:1994', ' Dreamwood:Adrienne Rich:1987']\n",
      "['Afterimages:Audre Lorde:1997', 'The Shadow:William Carlos Williams:1915', 'Ecstasy:Gabriela Mistral:1925', 'Georgia Dusk:Jean Toomer:1923', 'Parting Before Daybreak:An Qi:2014', 'The Untold Want:Walt Whitman:1871', \"Mr. Grumpledump's Song:Shel Silverstein:2004\", 'Angel Sound Mexico City:Carmen Boullosa:2013', 'In Love:Kamala Suraiyya:1965', 'Dream Variations:Langston Hughes:1994', 'Dreamwood:Adrienne Rich:1987']\n",
      "The poem Afterimages was published by Audre Lorde in 1997.\n",
      "The poem The Shadow was published by William Carlos Williams in 1915.\n",
      "The poem Ecstasy was published by Gabriela Mistral in 1925.\n",
      "The poem Georgia Dusk was published by Jean Toomer in 1923.\n",
      "The poem Parting Before Daybreak was published by An Qi in 2014.\n",
      "The poem The Untold Want was published by Walt Whitman in 1871.\n",
      "The poem Mr. Grumpledump's Song was published by Shel Silverstein in 2004.\n",
      "The poem Angel Sound Mexico City was published by Carmen Boullosa in 2013.\n",
      "The poem In Love was published by Kamala Suraiyya in 1965.\n",
      "The poem Dream Variations was published by Langston Hughes in 1994.\n",
      "The poem Dreamwood was published by Adrienne Rich in 1987.\n"
     ]
    }
   ],
   "source": [
    "highlighted_poems = \"Afterimages:Audre Lorde:1997,  The Shadow:William Carlos Williams:1915, Ecstasy:Gabriela Mistral:1925,   Georgia Dusk:Jean Toomer:1923,   Parting Before Daybreak:An Qi:2014, The Untold Want:Walt Whitman:1871, Mr. Grumpledump's Song:Shel Silverstein:2004, Angel Sound Mexico City:Carmen Boullosa:2013, In Love:Kamala Suraiyya:1965, Dream Variations:Langston Hughes:1994, Dreamwood:Adrienne Rich:1987\"\n",
    "\n",
    "print(highlighted_poems)\n",
    "\n",
    "highlighted_poems_list= highlighted_poems.split(',')\n",
    "\n",
    "print(highlighted_poems_list)\n",
    "\n",
    "highlighted_poems_stripped=[]\n",
    "\n",
    "for st in highlighted_poems_list:\n",
    "  highlighted_poems_stripped.append(st.strip())\n",
    "\n",
    "print(highlighted_poems_stripped)\n",
    "\n",
    "highlighted_poems_details=[]\n",
    "\n",
    "for st in highlighted_poems_stripped:\n",
    "  highlighted_poems_details.append(st.split(':'))\n",
    "\n",
    "titles=[]\n",
    "poets=[]\n",
    "dates=[]\n",
    "\n",
    "for dt in highlighted_poems_details:\n",
    "  titles.append(dt[0])\n",
    "  poets.append(dt[1])\n",
    "  dates.append(dt[2])\n",
    "\n",
    "highlighted_poems_fix=[]\n",
    "\n",
    "def formateo(title,poet,date):\n",
    "  fix='The poem {title} was published by {poet} in {date}.'.format(title=title,poet=poet,date=date)\n",
    "  print(fix)\n",
    "\n",
    "i=0\n",
    "while i < len(highlighted_poems_details):\n",
    "  formateo(title=titles[i],poet=poets[i],date=dates[i])\n",
    "  i+=1\n",
    "\n",
    "\n"
   ]
  },
  {
   "cell_type": "code",
   "execution_count": 47,
   "id": "d078a117-8a0d-48fe-b5d3-f319e146bdd4",
   "metadata": {},
   "outputs": [
    {
     "name": "stdout",
     "output_type": "stream",
     "text": [
      "2006\n"
     ]
    }
   ],
   "source": [
    "date = '6/16/2006'\n",
    "date_s=list(date.split('/'))\n",
    "print(date_s[2])"
   ]
  },
  {
   "cell_type": "code",
   "execution_count": null,
   "id": "71157f84-fd92-4c75-91af-a49a32d54a42",
   "metadata": {},
   "outputs": [],
   "source": []
  },
  {
   "cell_type": "code",
   "execution_count": null,
   "id": "0c86bae8-daf4-4f80-b7ae-fd513d7bd633",
   "metadata": {},
   "outputs": [],
   "source": []
  }
 ],
 "metadata": {
  "kernelspec": {
   "display_name": "Python 3 (ipykernel)",
   "language": "python",
   "name": "python3"
  },
  "language_info": {
   "codemirror_mode": {
    "name": "ipython",
    "version": 3
   },
   "file_extension": ".py",
   "mimetype": "text/x-python",
   "name": "python",
   "nbconvert_exporter": "python",
   "pygments_lexer": "ipython3",
   "version": "3.11.7"
  }
 },
 "nbformat": 4,
 "nbformat_minor": 5
}
