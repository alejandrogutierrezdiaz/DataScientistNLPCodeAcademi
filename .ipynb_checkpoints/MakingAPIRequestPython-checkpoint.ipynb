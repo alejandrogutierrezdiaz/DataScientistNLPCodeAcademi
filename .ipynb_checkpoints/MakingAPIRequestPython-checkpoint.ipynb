{
 "cells": [
  {
   "cell_type": "code",
   "execution_count": 4,
   "id": "de474c17-bda6-49dc-9bc7-b9d5bb9e0a87",
   "metadata": {},
   "outputs": [],
   "source": [
    "import requests\n",
    "r = requests.get('https://api.census.gov/data/2020/acs/acs5?get=NAME,B08303_001E&for=state:*') \n"
   ]
  },
  {
   "cell_type": "markdown",
   "id": "83338a0d-4dc3-46a5-b2fa-89fc213907b6",
   "metadata": {},
   "source": [
    "We can look at that response data by using the .text attribute. The text attribute turns the data into a string. "
   ]
  },
  {
   "cell_type": "code",
   "execution_count": 6,
   "id": "e5c49a15-71c3-4cc4-b850-1914cf7e2715",
   "metadata": {},
   "outputs": [
    {
     "name": "stdout",
     "output_type": "stream",
     "text": [
      "[[\"NAME\",\"B08303_001E\",\"state\"],\n",
      "[\"Pennsylvania\",\"5652158\",\"42\"],\n",
      "[\"California\",\"16710195\",\"06\"],\n",
      "[\"West Virginia\",\"697042\",\"54\"],\n",
      "[\"Utah\",\"1378826\",\"49\"],\n",
      "[\"New York\",\"8584828\",\"36\"],\n",
      "[\"District of Columbia\",\"332618\",\"11\"],\n",
      "[\"Alaska\",\"330203\",\"02\"],\n",
      "[\"Florida\",\"8817718\",\"12\"],\n",
      "[\"South Carolina\",\"2174285\",\"45\"],\n",
      "[\"North Dakota\",\"380227\",\"38\"],\n",
      "[\"Maine\",\"608861\",\"23\"],\n",
      "[\"Georgia\",\"4475685\",\"13\"],\n",
      "[\"Alabama\",\"2002359\",\"01\"],\n",
      "[\"New Hampshire\",\"656277\",\"33\"],\n",
      "[\"Oregon\",\"1790252\",\"41\"],\n",
      "[\"Wyoming\",\"267249\",\"56\"],\n",
      "[\"Arizona\",\"2897654\",\"04\"],\n",
      "[\"Louisiana\",\"1917930\",\"22\"],\n",
      "[\"Indiana\",\"2985939\",\"18\"],\n",
      "[\"Idaho\",\"744565\",\"16\"],\n",
      "[\"Connecticut\",\"1641807\",\"09\"],\n",
      "[\"Hawaii\",\"657643\",\"15\"],\n",
      "[\"Illinois\",\"5686627\",\"17\"],\n",
      "[\"Massachusetts\",\"3251466\",\"25\"],\n",
      "[\"Texas\",\"12371575\",\"48\"],\n",
      "[\"Montana\",\"471094\",\"30\"],\n",
      "[\"Nebraska\",\"928064\",\"31\"],\n",
      "[\"Ohio\",\"5163570\",\"39\"],\n",
      "[\"Colorado\",\"2604698\",\"08\"],\n",
      "[\"New Jersey\",\"4016070\",\"34\"],\n",
      "[\"Maryland\",\"2799889\",\"24\"],\n",
      "[\"Virginia\",\"3883690\",\"51\"],\n",
      "[\"Vermont\",\"292982\",\"50\"],\n",
      "[\"North Carolina\",\"4458769\",\"37\"],\n",
      "[\"Arkansas\",\"1238100\",\"05\"],\n",
      "[\"Washington\",\"3302637\",\"53\"],\n",
      "[\"Kansas\",\"1345103\",\"20\"],\n",
      "[\"Oklahoma\",\"1674019\",\"40\"],\n",
      "[\"Wisconsin\",\"2747826\",\"55\"],\n",
      "[\"Mississippi\",\"1193668\",\"28\"],\n",
      "[\"Missouri\",\"2707728\",\"29\"],\n",
      "[\"Michigan\",\"4288646\",\"26\"],\n",
      "[\"Rhode Island\",\"495214\",\"44\"],\n",
      "[\"Minnesota\",\"2654657\",\"27\"],\n",
      "[\"Iowa\",\"1482217\",\"19\"],\n",
      "[\"New Mexico\",\"829659\",\"35\"],\n",
      "[\"Nevada\",\"1321596\",\"32\"],\n",
      "[\"Delaware\",\"419600\",\"10\"],\n",
      "[\"Puerto Rico\",\"969379\",\"72\"],\n",
      "[\"Kentucky\",\"1858458\",\"21\"],\n",
      "[\"South Dakota\",\"411590\",\"46\"],\n",
      "[\"Tennessee\",\"2909026\",\"47\"]]\n"
     ]
    }
   ],
   "source": [
    "# Access data as JSON string\n",
    "print(r.text)\n",
    " \n"
   ]
  },
  {
   "cell_type": "markdown",
   "id": "2e9e41cd-b76f-47b0-839b-479265779eea",
   "metadata": {},
   "source": [
    "We can also use the .json() method that can automatically decode JSON data into the appropriate Python object. "
   ]
  },
  {
   "cell_type": "code",
   "execution_count": 8,
   "id": "c3d5840e-2a05-4327-9183-27f0888a35cf",
   "metadata": {},
   "outputs": [
    {
     "name": "stdout",
     "output_type": "stream",
     "text": [
      "[['NAME', 'B08303_001E', 'state'], ['Pennsylvania', '5652158', '42'], ['California', '16710195', '06'], ['West Virginia', '697042', '54'], ['Utah', '1378826', '49'], ['New York', '8584828', '36'], ['District of Columbia', '332618', '11'], ['Alaska', '330203', '02'], ['Florida', '8817718', '12'], ['South Carolina', '2174285', '45'], ['North Dakota', '380227', '38'], ['Maine', '608861', '23'], ['Georgia', '4475685', '13'], ['Alabama', '2002359', '01'], ['New Hampshire', '656277', '33'], ['Oregon', '1790252', '41'], ['Wyoming', '267249', '56'], ['Arizona', '2897654', '04'], ['Louisiana', '1917930', '22'], ['Indiana', '2985939', '18'], ['Idaho', '744565', '16'], ['Connecticut', '1641807', '09'], ['Hawaii', '657643', '15'], ['Illinois', '5686627', '17'], ['Massachusetts', '3251466', '25'], ['Texas', '12371575', '48'], ['Montana', '471094', '30'], ['Nebraska', '928064', '31'], ['Ohio', '5163570', '39'], ['Colorado', '2604698', '08'], ['New Jersey', '4016070', '34'], ['Maryland', '2799889', '24'], ['Virginia', '3883690', '51'], ['Vermont', '292982', '50'], ['North Carolina', '4458769', '37'], ['Arkansas', '1238100', '05'], ['Washington', '3302637', '53'], ['Kansas', '1345103', '20'], ['Oklahoma', '1674019', '40'], ['Wisconsin', '2747826', '55'], ['Mississippi', '1193668', '28'], ['Missouri', '2707728', '29'], ['Michigan', '4288646', '26'], ['Rhode Island', '495214', '44'], ['Minnesota', '2654657', '27'], ['Iowa', '1482217', '19'], ['New Mexico', '829659', '35'], ['Nevada', '1321596', '32'], ['Delaware', '419600', '10'], ['Puerto Rico', '969379', '72'], ['Kentucky', '1858458', '21'], ['South Dakota', '411590', '46'], ['Tennessee', '2909026', '47']]\n"
     ]
    }
   ],
   "source": [
    "# Access decoded JSON data as Python object\n",
    "print(r.json())"
   ]
  },
  {
   "cell_type": "markdown",
   "id": "c9279028-0198-4d1a-956c-4f7c2f11ccea",
   "metadata": {},
   "source": [
    "Converting JSON to CSV"
   ]
  },
  {
   "cell_type": "code",
   "execution_count": 10,
   "id": "f32b77c7-9bd6-45ef-8e69-36ed059c1d38",
   "metadata": {},
   "outputs": [],
   "source": [
    "import csv"
   ]
  },
  {
   "cell_type": "markdown",
   "id": "f25a3154-0de0-435f-964d-d0d56679f6b0",
   "metadata": {},
   "source": [
    "We first make a variable and call it file. Then we use open() to open a file, since we are going to write that file, we open it with mode='w' for writing mode. The newline='' ensures that newlines are always interpreted correctly.\n",
    "Next, we use the writer() function from the csv library to make a writer object (don’t worry about what this is right now). We then use the writerows() method to write each row of data into comma-separated format\n"
   ]
  },
  {
   "cell_type": "code",
   "execution_count": 16,
   "id": "7e4c4bdc-a489-4cc0-a8e0-ff0faef28e49",
   "metadata": {},
   "outputs": [],
   "source": [
    "r_json=r.json()\n",
    "with open('commute_data.csv',mode='w',newline='') as file:\n",
    "  writer= csv.writer(file)\n",
    "  writer.writerows(r_json)"
   ]
  },
  {
   "cell_type": "markdown",
   "id": "e3527739-4e4d-4fab-abcc-881c80eee67b",
   "metadata": {},
   "source": [
    "# Exploring data using pandas\n",
    "We’ll use Python’s pandas library, which is designed for working with data (and will quickly become familiar to you). Start by importing the library and using the read_csv() function to read the CSV data into a DataFrame object:\n"
   ]
  },
  {
   "cell_type": "code",
   "execution_count": 23,
   "id": "1c2709b7-3f28-410f-b058-b2a3eaf9b2c5",
   "metadata": {},
   "outputs": [],
   "source": [
    "import pandas"
   ]
  },
  {
   "cell_type": "markdown",
   "id": "acf04e53-9c88-46d9-a26f-85e78a31fbbd",
   "metadata": {},
   "source": [
    "-  using the read_csv() function to read the CSV data into a DataFrame object\n",
    "- By default, the first row of the CSV file is read in as the header row. We can use the .head() method to preview the first few rows of the DataFrame. \n",
    "\n",
    "nota - sometimes columns have ambiguous or confusing names (like Census codes). We might also want to rename those columns. We can use the .columns attribute to rename the column headings if needed"
   ]
  },
  {
   "cell_type": "code",
   "execution_count": 27,
   "id": "8d401d61-e5bb-4e78-9a82-02eea9e39da5",
   "metadata": {},
   "outputs": [
    {
     "name": "stdout",
     "output_type": "stream",
     "text": [
      "            NAME  B08303_001E  state\n",
      "0   Pennsylvania      5652158     42\n",
      "1     California     16710195      6\n",
      "2  West Virginia       697042     54\n",
      "3           Utah      1378826     49\n",
      "4       New York      8584828     36\n"
     ]
    }
   ],
   "source": [
    "\n",
    "commute_df= pandas.read_csv(\"commute_data.csv\")\n",
    "print(commute_df.head())"
   ]
  },
  {
   "cell_type": "code",
   "execution_count": null,
   "id": "4a7a5e87-568b-4e05-8980-1d12170bde4a",
   "metadata": {},
   "outputs": [],
   "source": []
  }
 ],
 "metadata": {
  "kernelspec": {
   "display_name": "Python 3 (ipykernel)",
   "language": "python",
   "name": "python3"
  },
  "language_info": {
   "codemirror_mode": {
    "name": "ipython",
    "version": 3
   },
   "file_extension": ".py",
   "mimetype": "text/x-python",
   "name": "python",
   "nbconvert_exporter": "python",
   "pygments_lexer": "ipython3",
   "version": "3.11.7"
  }
 },
 "nbformat": 4,
 "nbformat_minor": 5
}
